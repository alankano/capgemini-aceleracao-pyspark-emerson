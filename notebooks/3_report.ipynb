{
 "cells": [
  {
   "cell_type": "code",
   "execution_count": 1,
   "id": "e0e2d678",
   "metadata": {},
   "outputs": [],
   "source": [
    "import findspark\n",
    "\n",
    "findspark.init()"
   ]
  },
  {
   "cell_type": "code",
   "execution_count": 2,
   "id": "74b590b8",
   "metadata": {},
   "outputs": [],
   "source": [
    "from pyspark.sql import SparkSession, functions as F\n",
    "from pyspark.sql.types import StructType, StringType"
   ]
  },
  {
   "cell_type": "code",
   "execution_count": 3,
   "id": "98611592",
   "metadata": {},
   "outputs": [],
   "source": [
    "spark = SparkSession\\\n",
    "    .builder\\\n",
    "    .appName('Aceleração Pyspark - Semana 4')\\\n",
    "    .master('local[7]')"
   ]
  },
  {
   "cell_type": "code",
   "execution_count": 4,
   "id": "2d800cfd",
   "metadata": {},
   "outputs": [
    {
     "data": {
      "text/plain": [
       "<pyspark.sql.session.SparkSession.Builder at 0x248ec720820>"
      ]
     },
     "execution_count": 4,
     "metadata": {},
     "output_type": "execute_result"
    }
   ],
   "source": [
    "spark"
   ]
  },
  {
   "cell_type": "markdown",
   "id": "b3845e4b",
   "metadata": {},
   "source": [
    "# Carga dos qas"
   ]
  },
  {
   "cell_type": "code",
   "execution_count": 6,
   "id": "f2ade38d",
   "metadata": {},
   "outputs": [],
   "source": [
    "airport_qa = spark.getOrCreate()\\\n",
    "    .read\\\n",
    "    .parquet('../data/airports_qa.parquet')"
   ]
  },
  {
   "cell_type": "code",
   "execution_count": 7,
   "id": "15aa03c2",
   "metadata": {},
   "outputs": [],
   "source": [
    "airport_qa = airport_qa.drop('name', 'lat', 'lon', 'alt', 'tz', 'dst')"
   ]
  },
  {
   "cell_type": "code",
   "execution_count": 8,
   "id": "b5942ac9",
   "metadata": {},
   "outputs": [
    {
     "name": "stdout",
     "output_type": "stream",
     "text": [
      "+---+------+-------+------+------+------+-----+------+\n",
      "|faa|qa_faa|qa_name|qa_lat|qa_lon|qa_alt|qa_tz|qa_dst|\n",
      "+---+------+-------+------+------+------+-----+------+\n",
      "|04G|  null|   null|  null|  null|  null| null|  null|\n",
      "|06A|  null|   null|  null|  null|  null| null|  null|\n",
      "|06C|  null|   null|  null|  null|  null| null|  null|\n",
      "|06N|  null|   null|  null|  null|  null| null|  null|\n",
      "|09J|  null|   null|  null|  null|  null| null|  null|\n",
      "|0A9|  null|   null|  null|  null|  null| null|  null|\n",
      "|0G6|  null|   null|  null|  null|  null| null|  null|\n",
      "|0G7|  null|   null|  null|  null|  null| null|  null|\n",
      "|0P2|  null|   null|  null|  null|  null| null|  null|\n",
      "|0S9|  null|   null|  null|  null|  null| null|  null|\n",
      "|0W3|  null|   null|  null|  null|  null| null|  null|\n",
      "|10C|  null|   null|  null|  null|  null| null|  null|\n",
      "|17G|  null|   null|  null|  null|  null| null|  null|\n",
      "|19A|  null|   null|  null|  null|  null| null|  null|\n",
      "|1A3|  null|   null|  null|  null|  null| null|  null|\n",
      "|1B9|  null|   null|  null|  null|  null| null|  null|\n",
      "|1C9|  null|   null|  null|  null|  null| null|  null|\n",
      "|1CS|  null|   null|  null|  null|  null| null|  null|\n",
      "|1G3|  null|   null|  null|  null|  null| null|  null|\n",
      "|1OH|  null|   null|  null|  null|  null| null|  null|\n",
      "+---+------+-------+------+------+------+-----+------+\n",
      "only showing top 20 rows\n",
      "\n"
     ]
    }
   ],
   "source": [
    "airport_qa.show()"
   ]
  },
  {
   "cell_type": "code",
   "execution_count": 9,
   "id": "e37fd53b",
   "metadata": {},
   "outputs": [],
   "source": [
    "planes_qa = spark.getOrCreate()\\\n",
    "    .read.parquet('../data/planes_qa.parquet')"
   ]
  },
  {
   "cell_type": "code",
   "execution_count": 10,
   "id": "f51a843c",
   "metadata": {},
   "outputs": [],
   "source": [
    "planes_qa = planes_qa.drop('year', 'type', 'manufacturer', 'model', 'engines', 'seats', 'speed', 'engine')"
   ]
  },
  {
   "cell_type": "code",
   "execution_count": 11,
   "id": "f9a28221",
   "metadata": {},
   "outputs": [
    {
     "name": "stdout",
     "output_type": "stream",
     "text": [
      "+-------+----------+-------+-------+---------------+--------+----------+--------+--------+---------+\n",
      "|tailnum|qa_tailnum|qa_year|qa_type|qa_manufacturer|qa_model|qa_engines|qa_seats|qa_speed|qa_engine|\n",
      "+-------+----------+-------+-------+---------------+--------+----------+--------+--------+---------+\n",
      "| N102UW|         S|   null|   null|              C|    null|      null|    null|       M|     null|\n",
      "| N103US|         S|   null|   null|              C|    null|      null|    null|       M|     null|\n",
      "| N104UW|         S|   null|   null|              C|    null|      null|    null|       M|     null|\n",
      "| N105UW|         S|   null|   null|              C|    null|      null|    null|       M|     null|\n",
      "| N107US|         S|   null|   null|              C|    null|      null|    null|       M|     null|\n",
      "| N108UW|         S|   null|   null|              C|    null|      null|    null|       M|     null|\n",
      "| N109UW|         S|   null|   null|              C|    null|      null|    null|       M|     null|\n",
      "| N110UW|         S|   null|   null|              C|    null|      null|    null|       M|     null|\n",
      "| N111US|         S|   null|   null|              C|    null|      null|    null|       M|     null|\n",
      "| N11206|         S|   null|   null|           null|    null|      null|    null|       M|     null|\n",
      "| N112US|         S|   null|   null|              C|    null|      null|    null|       M|     null|\n",
      "| N113UW|         S|   null|   null|              C|    null|      null|    null|       M|     null|\n",
      "| N114UW|         S|   null|   null|              C|    null|      null|    null|       M|     null|\n",
      "| N117UW|         S|   null|   null|              C|    null|      null|    null|       M|     null|\n",
      "| N118US|         S|   null|   null|              C|    null|      null|    null|       M|     null|\n",
      "| N119US|         S|   null|   null|              C|    null|      null|    null|       M|     null|\n",
      "| N1200K|         S|   null|   null|           null|    null|      null|    null|       M|     null|\n",
      "| N1201P|         S|   null|   null|           null|    null|      null|    null|       M|     null|\n",
      "| N12114|         S|   null|   null|           null|    null|      null|    null|       M|     null|\n",
      "| N121DE|         S|   null|   null|           null|    null|      null|    null|       M|     null|\n",
      "+-------+----------+-------+-------+---------------+--------+----------+--------+--------+---------+\n",
      "only showing top 20 rows\n",
      "\n"
     ]
    }
   ],
   "source": [
    "planes_qa.show()"
   ]
  },
  {
   "cell_type": "code",
   "execution_count": 12,
   "id": "1cdf0ac5",
   "metadata": {},
   "outputs": [],
   "source": [
    "flights_qa = spark.getOrCreate()\\\n",
    "    .read.parquet('../data/flights_qa.parquet')"
   ]
  },
  {
   "cell_type": "code",
   "execution_count": 13,
   "id": "c1ef9126",
   "metadata": {},
   "outputs": [],
   "source": [
    "flights_qa = flights_qa.drop('year', 'month', 'day', 'dep_time', 'dep_delay', 'arr_time', 'arr_delay', 'carrier', 'flight', \n",
    "                             'air_time', 'distance', 'hour', 'minute')"
   ]
  },
  {
   "cell_type": "code",
   "execution_count": 14,
   "id": "52ea2354",
   "metadata": {},
   "outputs": [
    {
     "name": "stdout",
     "output_type": "stream",
     "text": [
      "+-------+------+----+-----------------+--------------+---------------+----------------+----------+----------+---------+--------------+-----------+-----------+-------------------+\n",
      "|tailnum|origin|dest|qa_year_month_day|qa_hour_minute|qa_dep_arr_time|qa_dep_arr_delay|qa_carrier|qa_tailnum|qa_flight|qa_origin_dest|qa_air_time|qa_distance|qa_distance_airtime|\n",
      "+-------+------+----+-----------------+--------------+---------------+----------------+----------+----------+---------+--------------+-----------+-----------+-------------------+\n",
      "| N846VA|   SEA| LAX|             null|          null|           null|            null|         F|      null|     null|            FO|       null|       null|                 TL|\n",
      "| N559AS|   SEA| HNL|             null|          null|           null|            null|         F|      null|        F|            FO|       null|       null|                 TL|\n",
      "| N847VA|   SEA| SFO|             null|          null|           null|            null|         F|      null|        F|            FO|       null|       null|                 TL|\n",
      "| N360SW|   PDX| SJC|             null|          null|           null|            null|         F|      null|        F|            FO|       null|       null|                 TR|\n",
      "| N612AS|   SEA| BUR|             null|          null|           null|            null|         F|      null|        F|            FO|       null|       null|                 TL|\n",
      "| N646SW|   PDX| DEN|             null|          null|           null|            null|         F|      null|        F|            FO|       null|       null|                 TR|\n",
      "| N422WN|   PDX| OAK|             null|          null|           null|            null|         F|      null|     null|            FO|       null|       null|                 TL|\n",
      "| N361VA|   SEA| SFO|             null|          null|           null|            null|         F|      null|        F|            FO|       null|       null|                 TL|\n",
      "| N309AS|   SEA| SAN|             null|          null|           null|            null|         F|      null|        F|            FO|       null|       null|                 TL|\n",
      "| N564AS|   SEA| ORD|             null|          null|           null|            null|         F|      null|        F|            FO|       null|       null|                 TR|\n",
      "| N323AS|   SEA| LAX|             null|          null|           null|            null|         F|      null|        F|            FO|       null|       null|                 TL|\n",
      "| N305AS|   SEA| PHX|             null|          null|           null|            null|         F|      null|        F|            FO|       null|       null|                 TL|\n",
      "| N433AS|   SEA| LAS|             null|          null|           null|            null|         F|      null|        F|            FO|       null|       null|                 TL|\n",
      "| N765AS|   SEA| ANC|             null|          null|           null|            null|         F|      null|        F|            FO|       null|       null|                 TL|\n",
      "| N713AS|   SEA| SFO|             null|          null|           null|            null|         F|      null|        F|            FO|       null|       null|                 TL|\n",
      "| N27205|   PDX| SFO|             null|          null|           null|            null|         F|         F|     null|            FO|       null|       null|                 TL|\n",
      "| N626AS|   SEA| SMF|             null|          null|           null|            null|         F|      null|        F|            FO|       null|       null|                 TR|\n",
      "| N8634A|   SEA| MDW|             null|          null|           null|            null|         F|         F|        F|            FO|       null|       null|                 TL|\n",
      "| N597AS|   SEA| BOS|             null|          null|           null|            null|         F|      null|        F|            FO|       null|       null|                 TL|\n",
      "| N215AG|   PDX| BUR|             null|          null|           null|            null|         F|      null|     null|            FO|       null|       null|                 TR|\n",
      "+-------+------+----+-----------------+--------------+---------------+----------------+----------+----------+---------+--------------+-----------+-----------+-------------------+\n",
      "only showing top 20 rows\n",
      "\n"
     ]
    }
   ],
   "source": [
    "flights_qa.show()"
   ]
  },
  {
   "cell_type": "markdown",
   "id": "dd93ae6b",
   "metadata": {},
   "source": [
    "### Pergunta 1"
   ]
  },
  {
   "cell_type": "code",
   "execution_count": 15,
   "id": "f361778f",
   "metadata": {},
   "outputs": [],
   "source": [
    "BD_qa_1 = flights_qa.alias('fli').join(airport_qa.alias('air'), \n",
    "                                 F.col('fli.origin') == F.col('air.faa'), 'left')\\\n",
    "                         .select(F.col(\"tailnum\"),\n",
    "                                F.col('origin'),\n",
    "                               F.col('dest'),\n",
    "                               F.col('faa'),\n",
    "                               F.col('qa_year_month_day'),\n",
    "                               F.col('qa_hour_minute'), \n",
    "                               F.col('qa_dep_arr_time'),\n",
    "                               F.col('qa_dep_arr_delay'),\n",
    "                               F.col('qa_carrier'),\n",
    "                               F.col('qa_tailnum'),\n",
    "                               F.col('qa_flight'),\n",
    "                               F.col('qa_origin_dest'),\n",
    "                               F.col('qa_air_time'),\n",
    "                               F.col('qa_distance'),\n",
    "                               F.col('qa_distance_airtime'),\n",
    "                               F.col('qa_faa').alias('ori_qa_faa'),\n",
    "                               F.col('qa_name').alias('ori_qa_name'),\n",
    "                               F.col('qa_lat').alias('ori_qa_lat'),\n",
    "                               F.col('qa_lon').alias('ori_qa_lon'),\n",
    "                               F.col('qa_alt').alias('ori_qa_alt'),\n",
    "                               F.col('qa_tz').alias('ori_qa_tz'),\n",
    "                               F.col('qa_dst').alias('ori_qa_dst'))"
   ]
  },
  {
   "cell_type": "code",
   "execution_count": 16,
   "id": "5ebfd912",
   "metadata": {
    "scrolled": false
   },
   "outputs": [
    {
     "name": "stdout",
     "output_type": "stream",
     "text": [
      "+-------+------+----+---+-----------------+--------------+---------------+----------------+----------+----------+---------+--------------+-----------+-----------+-------------------+----------+-----------+----------+----------+----------+---------+----------+\n",
      "|tailnum|origin|dest|faa|qa_year_month_day|qa_hour_minute|qa_dep_arr_time|qa_dep_arr_delay|qa_carrier|qa_tailnum|qa_flight|qa_origin_dest|qa_air_time|qa_distance|qa_distance_airtime|ori_qa_faa|ori_qa_name|ori_qa_lat|ori_qa_lon|ori_qa_alt|ori_qa_tz|ori_qa_dst|\n",
      "+-------+------+----+---+-----------------+--------------+---------------+----------------+----------+----------+---------+--------------+-----------+-----------+-------------------+----------+-----------+----------+----------+----------+---------+----------+\n",
      "| N846VA|   SEA| LAX|SEA|             null|          null|           null|            null|         F|      null|     null|            FO|       null|       null|                 TL|         F|       null|      null|      null|      null|     null|      null|\n",
      "| N559AS|   SEA| HNL|SEA|             null|          null|           null|            null|         F|      null|        F|            FO|       null|       null|                 TL|         F|       null|      null|      null|      null|     null|      null|\n",
      "| N847VA|   SEA| SFO|SEA|             null|          null|           null|            null|         F|      null|        F|            FO|       null|       null|                 TL|         F|       null|      null|      null|      null|     null|      null|\n",
      "| N360SW|   PDX| SJC|PDX|             null|          null|           null|            null|         F|      null|        F|            FO|       null|       null|                 TR|         F|       null|      null|      null|      null|     null|      null|\n",
      "| N612AS|   SEA| BUR|SEA|             null|          null|           null|            null|         F|      null|        F|            FO|       null|       null|                 TL|         F|       null|      null|      null|      null|     null|      null|\n",
      "+-------+------+----+---+-----------------+--------------+---------------+----------------+----------+----------+---------+--------------+-----------+-----------+-------------------+----------+-----------+----------+----------+----------+---------+----------+\n",
      "only showing top 5 rows\n",
      "\n"
     ]
    }
   ],
   "source": [
    "BD_qa_1.show(5)"
   ]
  },
  {
   "cell_type": "code",
   "execution_count": 17,
   "id": "2ee75ac8",
   "metadata": {},
   "outputs": [],
   "source": [
    "BD_qa_2 = BD_qa_1.alias('bd').join(airport_qa.alias('air'), \n",
    "                                  F.col('bd.dest') == F.col('air.faa'), 'left')\\\n",
    "            .select(F.col(\"bd.*\"),\n",
    "                   F.col('qa_faa').alias('dest_qa_faa'),\n",
    "                   F.col('qa_name').alias('dest_qa_name'),\n",
    "                   F.col('qa_lat').alias('dest_qa_lat'),\n",
    "                   F.col('qa_lon').alias('dest_qa_lon'),\n",
    "                   F.col('qa_alt').alias('dest_qa_alt'),\n",
    "                   F.col('qa_tz').alias('dest_qa_tz'),\n",
    "                   F.col('qa_dst').alias('dest_qa_dst'))"
   ]
  },
  {
   "cell_type": "code",
   "execution_count": 18,
   "id": "7f806a70",
   "metadata": {
    "scrolled": true
   },
   "outputs": [
    {
     "name": "stdout",
     "output_type": "stream",
     "text": [
      "+-------+------+----+---+-----------------+--------------+---------------+----------------+----------+----------+---------+--------------+-----------+-----------+-------------------+----------+-----------+----------+----------+----------+---------+----------+-----------+------------+-----------+-----------+-----------+----------+-----------+\n",
      "|tailnum|origin|dest|faa|qa_year_month_day|qa_hour_minute|qa_dep_arr_time|qa_dep_arr_delay|qa_carrier|qa_tailnum|qa_flight|qa_origin_dest|qa_air_time|qa_distance|qa_distance_airtime|ori_qa_faa|ori_qa_name|ori_qa_lat|ori_qa_lon|ori_qa_alt|ori_qa_tz|ori_qa_dst|dest_qa_faa|dest_qa_name|dest_qa_lat|dest_qa_lon|dest_qa_alt|dest_qa_tz|dest_qa_dst|\n",
      "+-------+------+----+---+-----------------+--------------+---------------+----------------+----------+----------+---------+--------------+-----------+-----------+-------------------+----------+-----------+----------+----------+----------+---------+----------+-----------+------------+-----------+-----------+-----------+----------+-----------+\n",
      "| N846VA|   SEA| LAX|SEA|             null|          null|           null|            null|         F|      null|     null|            FO|       null|       null|                 TL|         F|       null|      null|      null|      null|     null|      null|          F|        null|       null|       null|       null|      null|       null|\n",
      "| N559AS|   SEA| HNL|SEA|             null|          null|           null|            null|         F|      null|        F|            FO|       null|       null|                 TL|         F|       null|      null|      null|      null|     null|      null|          F|        null|       null|       null|       null|      null|       null|\n",
      "| N847VA|   SEA| SFO|SEA|             null|          null|           null|            null|         F|      null|        F|            FO|       null|       null|                 TL|         F|       null|      null|      null|      null|     null|      null|          F|        null|       null|       null|       null|      null|       null|\n",
      "| N360SW|   PDX| SJC|PDX|             null|          null|           null|            null|         F|      null|        F|            FO|       null|       null|                 TR|         F|       null|      null|      null|      null|     null|      null|          F|        null|       null|       null|       null|      null|       null|\n",
      "| N612AS|   SEA| BUR|SEA|             null|          null|           null|            null|         F|      null|        F|            FO|       null|       null|                 TL|         F|       null|      null|      null|      null|     null|      null|          F|        null|       null|       null|       null|      null|       null|\n",
      "+-------+------+----+---+-----------------+--------------+---------------+----------------+----------+----------+---------+--------------+-----------+-----------+-------------------+----------+-----------+----------+----------+----------+---------+----------+-----------+------------+-----------+-----------+-----------+----------+-----------+\n",
      "only showing top 5 rows\n",
      "\n"
     ]
    }
   ],
   "source": [
    "BD_qa_2.show(5)"
   ]
  },
  {
   "cell_type": "code",
   "execution_count": 19,
   "id": "d7785b9f",
   "metadata": {},
   "outputs": [],
   "source": [
    "BD_qa = BD_qa_2.alias('bd').join(planes_qa.alias('pla'),\n",
    "                                      F.col('bd.tailnum') == F.col('pla.tailnum'), 'left')\\\n",
    "            .select(F.col('bd.*'),\n",
    "                    F.col('pla.qa_tailnum').alias('qa_tailnum_plane'),\n",
    "                    F.col('qa_year'),\n",
    "                    F.col('qa_type'),\n",
    "                    F.col('qa_manufacturer'),\n",
    "                    F.col('qa_model'),\n",
    "                    F.col('qa_engines'),\n",
    "                    F.col('qa_seats'),\n",
    "                    F.col('qa_speed'),\n",
    "                    F.col('qa_engine'))"
   ]
  },
  {
   "cell_type": "code",
   "execution_count": 20,
   "id": "fe9e110d",
   "metadata": {},
   "outputs": [],
   "source": [
    "BD_qa = BD_qa.drop('tailnum', 'origin', 'dest', 'faa')"
   ]
  },
  {
   "cell_type": "code",
   "execution_count": 21,
   "id": "a43d5c6f",
   "metadata": {
    "scrolled": true
   },
   "outputs": [
    {
     "name": "stdout",
     "output_type": "stream",
     "text": [
      "root\n",
      " |-- qa_year_month_day: string (nullable = true)\n",
      " |-- qa_hour_minute: string (nullable = true)\n",
      " |-- qa_dep_arr_time: string (nullable = true)\n",
      " |-- qa_dep_arr_delay: string (nullable = true)\n",
      " |-- qa_carrier: string (nullable = true)\n",
      " |-- qa_tailnum: string (nullable = true)\n",
      " |-- qa_flight: string (nullable = true)\n",
      " |-- qa_origin_dest: string (nullable = true)\n",
      " |-- qa_air_time: string (nullable = true)\n",
      " |-- qa_distance: string (nullable = true)\n",
      " |-- qa_distance_airtime: string (nullable = true)\n",
      " |-- ori_qa_faa: string (nullable = true)\n",
      " |-- ori_qa_name: string (nullable = true)\n",
      " |-- ori_qa_lat: string (nullable = true)\n",
      " |-- ori_qa_lon: string (nullable = true)\n",
      " |-- ori_qa_alt: string (nullable = true)\n",
      " |-- ori_qa_tz: string (nullable = true)\n",
      " |-- ori_qa_dst: string (nullable = true)\n",
      " |-- dest_qa_faa: string (nullable = true)\n",
      " |-- dest_qa_name: string (nullable = true)\n",
      " |-- dest_qa_lat: string (nullable = true)\n",
      " |-- dest_qa_lon: string (nullable = true)\n",
      " |-- dest_qa_alt: string (nullable = true)\n",
      " |-- dest_qa_tz: string (nullable = true)\n",
      " |-- dest_qa_dst: string (nullable = true)\n",
      " |-- qa_tailnum_plane: string (nullable = true)\n",
      " |-- qa_year: string (nullable = true)\n",
      " |-- qa_type: string (nullable = true)\n",
      " |-- qa_manufacturer: string (nullable = true)\n",
      " |-- qa_model: string (nullable = true)\n",
      " |-- qa_engines: string (nullable = true)\n",
      " |-- qa_seats: string (nullable = true)\n",
      " |-- qa_speed: string (nullable = true)\n",
      " |-- qa_engine: string (nullable = true)\n",
      "\n"
     ]
    }
   ],
   "source": [
    "BD_qa.printSchema()"
   ]
  },
  {
   "cell_type": "markdown",
   "id": "8d2a0242",
   "metadata": {},
   "source": [
    "### Pergunta 2"
   ]
  },
  {
   "cell_type": "code",
   "execution_count": 22,
   "id": "abaabe0b",
   "metadata": {},
   "outputs": [],
   "source": [
    "index = ['M', 'F', 'I', 'S', 'T']"
   ]
  },
  {
   "cell_type": "code",
   "execution_count": 23,
   "id": "70374a67",
   "metadata": {},
   "outputs": [],
   "source": [
    "schema_report = StructType()\\\n",
    "     .add('qa_year_month_day', StringType(), True)\\\n",
    "     .add('qa_hour_minute', StringType(), True)\\\n",
    "     .add('qa_dep_arr_time', StringType(), True)\\\n",
    "     .add('qa_dep_arr_delay', StringType(), True)\\\n",
    "     .add('qa_carrier', StringType(), True)\\\n",
    "     .add('qa_tailnum', StringType(), True)\\\n",
    "     .add('qa_flight', StringType(), True)\\\n",
    "     .add('qa_origin_dest', StringType(), True)\\\n",
    "     .add('qa_air_time', StringType(), True)\\\n",
    "     .add('qa_distance', StringType(), True)\\\n",
    "     .add('qa_distance_airtime', StringType(), True)\\\n",
    "     .add('ori_qa_faa', StringType(), True)\\\n",
    "     .add('ori_qa_name', StringType(), True)\\\n",
    "     .add('ori_qa_lat', StringType(), True)\\\n",
    "     .add('ori_qa_lon', StringType(), True)\\\n",
    "     .add('ori_qa_alt', StringType(), True)\\\n",
    "     .add('ori_qa_tz', StringType(), True)\\\n",
    "     .add('ori_qa_dst', StringType() , True)\\\n",
    "     .add('dest_qa_faa', StringType(), True)\\\n",
    "     .add('dest_qa_name', StringType(), True)\\\n",
    "     .add('dest_qa_lat', StringType(), True)\\\n",
    "     .add('dest_qa_lon', StringType(), True)\\\n",
    "     .add('dest_qa_alt', StringType(), True)\\\n",
    "     .add('dest_qa_tz', StringType(), True)\\\n",
    "     .add('dest_qa_dst', StringType(), True)\\\n",
    "     .add('qa_tailnum_plane', StringType(), True)\\\n",
    "     .add('qa_year', StringType(), True)\\\n",
    "     .add('qa_type', StringType(), True)\\\n",
    "     .add('qa_manufacturer', StringType(), True)\\\n",
    "     .add('qa_model', StringType(), True)\\\n",
    "     .add('qa_engines', StringType(), True)\\\n",
    "     .add('qa_seats', StringType(), True)\\\n",
    "     .add('qa_speed', StringType(), True)\\\n",
    "     .add('qa_engine', StringType(), True)"
   ]
  },
  {
   "cell_type": "code",
   "execution_count": 24,
   "id": "629ed766",
   "metadata": {},
   "outputs": [],
   "source": [
    "BD_report = spark.getOrCreate().createDataFrame(data = [], schema = schema_report)"
   ]
  },
  {
   "cell_type": "code",
   "execution_count": 25,
   "id": "8b25113c",
   "metadata": {},
   "outputs": [
    {
     "name": "stdout",
     "output_type": "stream",
     "text": [
      "root\n",
      " |-- qa_year_month_day: string (nullable = true)\n",
      " |-- qa_hour_minute: string (nullable = true)\n",
      " |-- qa_dep_arr_time: string (nullable = true)\n",
      " |-- qa_dep_arr_delay: string (nullable = true)\n",
      " |-- qa_carrier: string (nullable = true)\n",
      " |-- qa_tailnum: string (nullable = true)\n",
      " |-- qa_flight: string (nullable = true)\n",
      " |-- qa_origin_dest: string (nullable = true)\n",
      " |-- qa_air_time: string (nullable = true)\n",
      " |-- qa_distance: string (nullable = true)\n",
      " |-- qa_distance_airtime: string (nullable = true)\n",
      " |-- ori_qa_faa: string (nullable = true)\n",
      " |-- ori_qa_name: string (nullable = true)\n",
      " |-- ori_qa_lat: string (nullable = true)\n",
      " |-- ori_qa_lon: string (nullable = true)\n",
      " |-- ori_qa_alt: string (nullable = true)\n",
      " |-- ori_qa_tz: string (nullable = true)\n",
      " |-- ori_qa_dst: string (nullable = true)\n",
      " |-- dest_qa_faa: string (nullable = true)\n",
      " |-- dest_qa_name: string (nullable = true)\n",
      " |-- dest_qa_lat: string (nullable = true)\n",
      " |-- dest_qa_lon: string (nullable = true)\n",
      " |-- dest_qa_alt: string (nullable = true)\n",
      " |-- dest_qa_tz: string (nullable = true)\n",
      " |-- dest_qa_dst: string (nullable = true)\n",
      " |-- qa_tailnum_plane: string (nullable = true)\n",
      " |-- qa_year: string (nullable = true)\n",
      " |-- qa_type: string (nullable = true)\n",
      " |-- qa_manufacturer: string (nullable = true)\n",
      " |-- qa_model: string (nullable = true)\n",
      " |-- qa_engines: string (nullable = true)\n",
      " |-- qa_seats: string (nullable = true)\n",
      " |-- qa_speed: string (nullable = true)\n",
      " |-- qa_engine: string (nullable = true)\n",
      "\n"
     ]
    }
   ],
   "source": [
    "BD_report.printSchema()"
   ]
  },
  {
   "cell_type": "code",
   "execution_count": 26,
   "id": "f1bd6542",
   "metadata": {
    "scrolled": true
   },
   "outputs": [
    {
     "name": "stdout",
     "output_type": "stream",
     "text": [
      "M\n",
      "F\n",
      "I\n",
      "S\n",
      "T\n"
     ]
    }
   ],
   "source": [
    "for i in index:\n",
    "    print(i)\n",
    "    BD_report = BD_report.union(BD_qa.select([F.count(F.when(F.col(c).startswith(i), 1)).alias(c) for c in BD_qa.columns]))"
   ]
  },
  {
   "cell_type": "code",
   "execution_count": 27,
   "id": "ce0687e0",
   "metadata": {
    "scrolled": false
   },
   "outputs": [
    {
     "name": "stdout",
     "output_type": "stream",
     "text": [
      "M\n",
      "-RECORD 0-------------------\n",
      " qa_year_month_day   | 0    \n",
      " qa_hour_minute      | 48   \n",
      " qa_dep_arr_time     | 0    \n",
      " qa_dep_arr_delay    | 75   \n",
      " qa_carrier          | 0    \n",
      " qa_tailnum          | 0    \n",
      " qa_flight           | 0    \n",
      " qa_origin_dest      | 0    \n",
      " qa_air_time         | 75   \n",
      " qa_distance         | 0    \n",
      " qa_distance_airtime | 75   \n",
      " ori_qa_faa          | 0    \n",
      " ori_qa_name         | 0    \n",
      " ori_qa_lat          | 0    \n",
      " ori_qa_lon          | 0    \n",
      " ori_qa_alt          | 0    \n",
      " ori_qa_tz           | 0    \n",
      " ori_qa_dst          | 0    \n",
      " dest_qa_faa         | 0    \n",
      " dest_qa_name        | 0    \n",
      " dest_qa_lat         | 0    \n",
      " dest_qa_lon         | 0    \n",
      " dest_qa_alt         | 0    \n",
      " dest_qa_tz          | 0    \n",
      " dest_qa_dst         | 0    \n",
      " qa_tailnum_plane    | 0    \n",
      " qa_year             | 94   \n",
      " qa_type             | 0    \n",
      " qa_manufacturer     | 0    \n",
      " qa_model            | 0    \n",
      " qa_engines          | 0    \n",
      " qa_seats            | 0    \n",
      " qa_speed            | 9443 \n",
      " qa_engine           | 0    \n",
      "\n",
      "F\n",
      "-RECORD 0--------------------\n",
      " qa_year_month_day   | 0     \n",
      " qa_hour_minute      | 0     \n",
      " qa_dep_arr_time     | 290   \n",
      " qa_dep_arr_delay    | 0     \n",
      " qa_carrier          | 9605  \n",
      " qa_tailnum          | 1411  \n",
      " qa_flight           | 6158  \n",
      " qa_origin_dest      | 10000 \n",
      " qa_air_time         | 0     \n",
      " qa_distance         | 0     \n",
      " qa_distance_airtime | 0     \n",
      " ori_qa_faa          | 10000 \n",
      " ori_qa_name         | 0     \n",
      " ori_qa_lat          | 0     \n",
      " ori_qa_lon          | 0     \n",
      " ori_qa_alt          | 0     \n",
      " ori_qa_tz           | 0     \n",
      " ori_qa_dst          | 0     \n",
      " dest_qa_faa         | 10000 \n",
      " dest_qa_name        | 0     \n",
      " dest_qa_lat         | 0     \n",
      " dest_qa_lon         | 0     \n",
      " dest_qa_alt         | 0     \n",
      " dest_qa_tz          | 0     \n",
      " dest_qa_dst         | 0     \n",
      " qa_tailnum_plane    | 0     \n",
      " qa_year             | 0     \n",
      " qa_type             | 0     \n",
      " qa_manufacturer     | 0     \n",
      " qa_model            | 9     \n",
      " qa_engines          | 0     \n",
      " qa_seats            | 0     \n",
      " qa_speed            | 0     \n",
      " qa_engine           | 0     \n",
      "\n",
      "I\n",
      "-RECORD 0------------------\n",
      " qa_year_month_day   | 0   \n",
      " qa_hour_minute      | 0   \n",
      " qa_dep_arr_time     | 0   \n",
      " qa_dep_arr_delay    | 0   \n",
      " qa_carrier          | 0   \n",
      " qa_tailnum          | 0   \n",
      " qa_flight           | 0   \n",
      " qa_origin_dest      | 0   \n",
      " qa_air_time         | 0   \n",
      " qa_distance         | 0   \n",
      " qa_distance_airtime | 0   \n",
      " ori_qa_faa          | 0   \n",
      " ori_qa_name         | 0   \n",
      " ori_qa_lat          | 0   \n",
      " ori_qa_lon          | 0   \n",
      " ori_qa_alt          | 0   \n",
      " ori_qa_tz           | 0   \n",
      " ori_qa_dst          | 0   \n",
      " dest_qa_faa         | 0   \n",
      " dest_qa_name        | 0   \n",
      " dest_qa_lat         | 0   \n",
      " dest_qa_lon         | 0   \n",
      " dest_qa_alt         | 0   \n",
      " dest_qa_tz          | 0   \n",
      " dest_qa_dst         | 0   \n",
      " qa_tailnum_plane    | 0   \n",
      " qa_year             | 8   \n",
      " qa_type             | 0   \n",
      " qa_manufacturer     | 0   \n",
      " qa_model            | 0   \n",
      " qa_engines          | 0   \n",
      " qa_seats            | 0   \n",
      " qa_speed            | 0   \n",
      " qa_engine           | 0   \n",
      "\n",
      "S\n",
      "-RECORD 0-------------------\n",
      " qa_year_month_day   | 0    \n",
      " qa_hour_minute      | 0    \n",
      " qa_dep_arr_time     | 0    \n",
      " qa_dep_arr_delay    | 0    \n",
      " qa_carrier          | 0    \n",
      " qa_tailnum          | 14   \n",
      " qa_flight           | 0    \n",
      " qa_origin_dest      | 0    \n",
      " qa_air_time         | 0    \n",
      " qa_distance         | 0    \n",
      " qa_distance_airtime | 0    \n",
      " ori_qa_faa          | 0    \n",
      " ori_qa_name         | 0    \n",
      " ori_qa_lat          | 0    \n",
      " ori_qa_lon          | 0    \n",
      " ori_qa_alt          | 0    \n",
      " ori_qa_tz           | 0    \n",
      " ori_qa_dst          | 0    \n",
      " dest_qa_faa         | 0    \n",
      " dest_qa_name        | 0    \n",
      " dest_qa_lat         | 0    \n",
      " dest_qa_lon         | 0    \n",
      " dest_qa_alt         | 0    \n",
      " dest_qa_tz          | 0    \n",
      " dest_qa_dst         | 0    \n",
      " qa_tailnum_plane    | 9448 \n",
      " qa_year             | 0    \n",
      " qa_type             | 0    \n",
      " qa_manufacturer     | 0    \n",
      " qa_model            | 0    \n",
      " qa_engines          | 0    \n",
      " qa_seats            | 0    \n",
      " qa_speed            | 0    \n",
      " qa_engine           | 0    \n",
      "\n",
      "T\n",
      "-RECORD 0-------------------\n",
      " qa_year_month_day   | 0    \n",
      " qa_hour_minute      | 0    \n",
      " qa_dep_arr_time     | 0    \n",
      " qa_dep_arr_delay    | 0    \n",
      " qa_carrier          | 0    \n",
      " qa_tailnum          | 0    \n",
      " qa_flight           | 0    \n",
      " qa_origin_dest      | 0    \n",
      " qa_air_time         | 0    \n",
      " qa_distance         | 0    \n",
      " qa_distance_airtime | 9925 \n",
      " ori_qa_faa          | 0    \n",
      " ori_qa_name         | 0    \n",
      " ori_qa_lat          | 0    \n",
      " ori_qa_lon          | 0    \n",
      " ori_qa_alt          | 0    \n",
      " ori_qa_tz           | 0    \n",
      " ori_qa_dst          | 0    \n",
      " dest_qa_faa         | 0    \n",
      " dest_qa_name        | 0    \n",
      " dest_qa_lat         | 0    \n",
      " dest_qa_lon         | 0    \n",
      " dest_qa_alt         | 0    \n",
      " dest_qa_tz          | 0    \n",
      " dest_qa_dst         | 0    \n",
      " qa_tailnum_plane    | 0    \n",
      " qa_year             | 0    \n",
      " qa_type             | 0    \n",
      " qa_manufacturer     | 0    \n",
      " qa_model            | 0    \n",
      " qa_engines          | 0    \n",
      " qa_seats            | 0    \n",
      " qa_speed            | 0    \n",
      " qa_engine           | 0    \n",
      "\n"
     ]
    }
   ],
   "source": [
    "for i in index:\n",
    "    print(i)\n",
    "    BD_qa.select([F.count(F.when(F.col(c).startswith(i), 1)).alias(c) for c in BD_qa.columns]).show(vertical = True)"
   ]
  },
  {
   "cell_type": "code",
   "execution_count": 28,
   "id": "7a3b8192",
   "metadata": {},
   "outputs": [],
   "source": [
    "def row_max_with_name(*cols):\n",
    "    cols_ = [F.struct(F.col(c).alias(\"value\"), F.lit(c).alias(\"col\")) for c in cols]\n",
    "    return F.greatest(*cols_).alias(\"greatest({0})\".format(\",\".join(cols)))"
   ]
  },
  {
   "cell_type": "code",
   "execution_count": 29,
   "id": "ddf3a546",
   "metadata": {},
   "outputs": [],
   "source": [
    " maxs = BD_report.select(row_max_with_name('qa_year_month_day',\n",
    " 'qa_hour_minute',\n",
    " 'qa_dep_arr_time',\n",
    " 'qa_dep_arr_delay',\n",
    " 'qa_carrier',\n",
    " 'qa_tailnum',\n",
    " 'qa_flight',\n",
    " 'qa_origin_dest',\n",
    " 'qa_air_time',\n",
    " 'qa_distance',\n",
    " 'qa_distance_airtime',\n",
    " 'ori_qa_faa',\n",
    " 'ori_qa_name',\n",
    " 'ori_qa_lat',\n",
    " 'ori_qa_lon',\n",
    " 'ori_qa_alt',\n",
    " 'ori_qa_tz',\n",
    " 'ori_qa_dst',\n",
    " 'dest_qa_faa',\n",
    " 'dest_qa_name',\n",
    " 'dest_qa_lat',\n",
    " 'dest_qa_lon',\n",
    " 'dest_qa_alt',\n",
    " 'dest_qa_tz',\n",
    " 'dest_qa_dst',\n",
    " 'qa_tailnum_plane',\n",
    " 'qa_year',\n",
    " 'qa_type',\n",
    " 'qa_manufacturer',\n",
    " 'qa_model',\n",
    " 'qa_engines',\n",
    " 'qa_seats',\n",
    " 'qa_speed',\n",
    " 'qa_engine').alias(\"maximos\"))"
   ]
  },
  {
   "cell_type": "code",
   "execution_count": 30,
   "id": "175d4c31",
   "metadata": {
    "scrolled": false
   },
   "outputs": [],
   "source": [
    "maxs = maxs.withColumn('id', F.monotonically_increasing_id())"
   ]
  },
  {
   "cell_type": "code",
   "execution_count": 31,
   "id": "12211d01",
   "metadata": {
    "scrolled": true
   },
   "outputs": [],
   "source": [
    "maxs = maxs.withColumn('value', \n",
    "               F.when(F.col('id') == 60129542144, 'M')\n",
    "               .when(F.col('id') == 68719476736, 'F')\n",
    "               .when(F.col('id') == 77309411328, 'I')\n",
    "               .when(F.col('id') == 85899345920, 'S')\n",
    "               .otherwise('T')).drop('id')"
   ]
  },
  {
   "cell_type": "code",
   "execution_count": 32,
   "id": "d95a969c",
   "metadata": {
    "scrolled": true
   },
   "outputs": [
    {
     "name": "stdout",
     "output_type": "stream",
     "text": [
      "+---------------------------+-----+\n",
      "|maximos                    |value|\n",
      "+---------------------------+-----+\n",
      "|{9443, qa_speed}           |M    |\n",
      "|{9605, qa_carrier}         |F    |\n",
      "|{8, qa_year}               |I    |\n",
      "|{9448, qa_tailnum_plane}   |S    |\n",
      "|{9925, qa_distance_airtime}|T    |\n",
      "+---------------------------+-----+\n",
      "\n"
     ]
    }
   ],
   "source": [
    "maxs.show(truncate = False)"
   ]
  },
  {
   "cell_type": "markdown",
   "id": "fe9f13e1",
   "metadata": {},
   "source": [
    "# Carga dos procs"
   ]
  },
  {
   "cell_type": "code",
   "execution_count": 37,
   "id": "3c06c10a",
   "metadata": {
    "scrolled": true
   },
   "outputs": [
    {
     "name": "stdout",
     "output_type": "stream",
     "text": [
      "root\n",
      " |-- faa: string (nullable = true)\n",
      " |-- name: string (nullable = true)\n",
      " |-- lat: double (nullable = true)\n",
      " |-- lon: double (nullable = true)\n",
      " |-- alt: double (nullable = true)\n",
      " |-- tz: integer (nullable = true)\n",
      " |-- dst: string (nullable = true)\n",
      " |-- region: string (nullable = true)\n",
      " |-- type: string (nullable = true)\n",
      " |-- military: boolean (nullable = true)\n",
      " |-- administration: string (nullable = true)\n",
      "\n"
     ]
    }
   ],
   "source": [
    "airports_proc = spark.getOrCreate().read.parquet('../data/airports_proc.parquet')\n",
    "airports_proc.printSchema()"
   ]
  },
  {
   "cell_type": "code",
   "execution_count": 38,
   "id": "d0a7ff8d",
   "metadata": {
    "scrolled": true
   },
   "outputs": [
    {
     "name": "stdout",
     "output_type": "stream",
     "text": [
      "root\n",
      " |-- tailnum: string (nullable = true)\n",
      " |-- year: integer (nullable = true)\n",
      " |-- type: string (nullable = true)\n",
      " |-- manufacturer: string (nullable = true)\n",
      " |-- model: string (nullable = true)\n",
      " |-- engines: integer (nullable = true)\n",
      " |-- seats: integer (nullable = true)\n",
      " |-- speed: integer (nullable = true)\n",
      " |-- engine: string (nullable = true)\n",
      " |-- tailchar: string (nullable = true)\n",
      " |-- age: integer (nullable = true)\n",
      " |-- engine_type: string (nullable = true)\n",
      "\n"
     ]
    }
   ],
   "source": [
    "planes_proc = spark.getOrCreate().read.parquet('../data/planes_proc.parquet')\n",
    "planes_proc.printSchema()"
   ]
  },
  {
   "cell_type": "code",
   "execution_count": 39,
   "id": "8a92ee6a",
   "metadata": {
    "scrolled": true
   },
   "outputs": [
    {
     "name": "stdout",
     "output_type": "stream",
     "text": [
      "root\n",
      " |-- dep_time: string (nullable = true)\n",
      " |-- dep_delay: string (nullable = true)\n",
      " |-- arr_time: string (nullable = true)\n",
      " |-- arr_delay: string (nullable = true)\n",
      " |-- carrier: string (nullable = true)\n",
      " |-- tailnum: string (nullable = true)\n",
      " |-- flight: string (nullable = true)\n",
      " |-- origin: string (nullable = true)\n",
      " |-- dest: string (nullable = true)\n",
      " |-- air_time: integer (nullable = true)\n",
      " |-- distance: integer (nullable = true)\n",
      " |-- dep_datetime: timestamp (nullable = true)\n",
      " |-- air_time_projected: integer (nullable = true)\n",
      " |-- air_time_expected: integer (nullable = true)\n",
      " |-- arr_time_: string (nullable = true)\n",
      " |-- haul_duration: string (nullable = true)\n",
      " |-- dep_season: string (nullable = true)\n",
      " |-- dep_delay_category: string (nullable = true)\n",
      "\n"
     ]
    }
   ],
   "source": [
    "flights_proc = spark.getOrCreate().read.parquet('../data/flights_proc.parquet')\n",
    "flights_proc.printSchema()"
   ]
  },
  {
   "cell_type": "markdown",
   "id": "8d2c184e",
   "metadata": {},
   "source": [
    "### Pergunta 1"
   ]
  },
  {
   "cell_type": "code",
   "execution_count": 40,
   "id": "1f176168",
   "metadata": {},
   "outputs": [],
   "source": [
    "airports_o = airports_proc.select(*(F.col(x).alias(x + '_airports_ori') for x in airports_proc.columns))\n",
    "airports_d = airports_proc.select(*(F.col(x).alias(x + '_airports_dest') for x in airports_proc.columns))\n",
    "planes = planes_proc.select(*(F.col(x).alias(x + '_planes') for x in planes_proc.columns))\n",
    "flights = flights_proc.select(*(F.col(x).alias(x + '_flights') for x in flights_proc.columns))"
   ]
  },
  {
   "cell_type": "code",
   "execution_count": 41,
   "id": "dd98c86a",
   "metadata": {},
   "outputs": [],
   "source": [
    "BD_uni = flights.alias('fl').join(airports_o.alias('ori'), F.col('fl.origin_flights') == F.col('ori.faa_airports_ori'), 'left')\\\n",
    "                   .join(airports_d.alias('des'), F.col('fl.dest_flights') == F.col('des.faa_airports_dest'), 'left')\\\n",
    "                   .join(planes.alias('pl'), F.col('fl.tailnum_flights') == F.col('pl.tailnum_planes'), 'left')"
   ]
  },
  {
   "cell_type": "markdown",
   "id": "a1a522ba",
   "metadata": {},
   "source": [
    "### Pergunta 2"
   ]
  },
  {
   "cell_type": "code",
   "execution_count": 42,
   "id": "4d54a702",
   "metadata": {
    "scrolled": true
   },
   "outputs": [
    {
     "name": "stdout",
     "output_type": "stream",
     "text": [
      "root\n",
      " |-- dep_time_flights: string (nullable = true)\n",
      " |-- dep_delay_flights: string (nullable = true)\n",
      " |-- arr_time_flights: string (nullable = true)\n",
      " |-- arr_delay_flights: string (nullable = true)\n",
      " |-- carrier_flights: string (nullable = true)\n",
      " |-- tailnum_flights: string (nullable = true)\n",
      " |-- flight_flights: string (nullable = true)\n",
      " |-- origin_flights: string (nullable = true)\n",
      " |-- dest_flights: string (nullable = true)\n",
      " |-- air_time_flights: integer (nullable = true)\n",
      " |-- distance_flights: integer (nullable = true)\n",
      " |-- dep_datetime_flights: timestamp (nullable = true)\n",
      " |-- air_time_projected_flights: integer (nullable = true)\n",
      " |-- air_time_expected_flights: integer (nullable = true)\n",
      " |-- arr_time__flights: string (nullable = true)\n",
      " |-- haul_duration_flights: string (nullable = true)\n",
      " |-- dep_season_flights: string (nullable = true)\n",
      " |-- dep_delay_category_flights: string (nullable = true)\n",
      " |-- faa_airports_ori: string (nullable = true)\n",
      " |-- name_airports_ori: string (nullable = true)\n",
      " |-- lat_airports_ori: double (nullable = true)\n",
      " |-- lon_airports_ori: double (nullable = true)\n",
      " |-- alt_airports_ori: double (nullable = true)\n",
      " |-- tz_airports_ori: integer (nullable = true)\n",
      " |-- dst_airports_ori: string (nullable = true)\n",
      " |-- region_airports_ori: string (nullable = true)\n",
      " |-- type_airports_ori: string (nullable = true)\n",
      " |-- military_airports_ori: boolean (nullable = true)\n",
      " |-- administration_airports_ori: string (nullable = true)\n",
      " |-- faa_airports_dest: string (nullable = true)\n",
      " |-- name_airports_dest: string (nullable = true)\n",
      " |-- lat_airports_dest: double (nullable = true)\n",
      " |-- lon_airports_dest: double (nullable = true)\n",
      " |-- alt_airports_dest: double (nullable = true)\n",
      " |-- tz_airports_dest: integer (nullable = true)\n",
      " |-- dst_airports_dest: string (nullable = true)\n",
      " |-- region_airports_dest: string (nullable = true)\n",
      " |-- type_airports_dest: string (nullable = true)\n",
      " |-- military_airports_dest: boolean (nullable = true)\n",
      " |-- administration_airports_dest: string (nullable = true)\n",
      " |-- tailnum_planes: string (nullable = true)\n",
      " |-- year_planes: integer (nullable = true)\n",
      " |-- type_planes: string (nullable = true)\n",
      " |-- manufacturer_planes: string (nullable = true)\n",
      " |-- model_planes: string (nullable = true)\n",
      " |-- engines_planes: integer (nullable = true)\n",
      " |-- seats_planes: integer (nullable = true)\n",
      " |-- speed_planes: integer (nullable = true)\n",
      " |-- engine_planes: string (nullable = true)\n",
      " |-- tailchar_planes: string (nullable = true)\n",
      " |-- age_planes: integer (nullable = true)\n",
      " |-- engine_type_planes: string (nullable = true)\n",
      "\n"
     ]
    }
   ],
   "source": [
    "BD_uni.printSchema()"
   ]
  },
  {
   "cell_type": "code",
   "execution_count": 43,
   "id": "a1e4dda0",
   "metadata": {
    "scrolled": true
   },
   "outputs": [
    {
     "name": "stdout",
     "output_type": "stream",
     "text": [
      "+-------------------+-------------------+\n",
      "|region_airports_ori|airports per region|\n",
      "+-------------------+-------------------+\n",
      "|      MAINLAND-WEST|                  2|\n",
      "+-------------------+-------------------+\n",
      "\n"
     ]
    }
   ],
   "source": [
    "BD_uni.groupBy('region_airports_ori')\\\n",
    "        .agg(F.expr('count(distinct faa_airports_ori)').alias('airports per region'))\\\n",
    "        .show()"
   ]
  },
  {
   "cell_type": "code",
   "execution_count": 44,
   "id": "035a5b2d",
   "metadata": {
    "scrolled": true
   },
   "outputs": [
    {
     "name": "stdout",
     "output_type": "stream",
     "text": [
      "+--------------------+-------------------+\n",
      "|region_airports_dest|airports per region|\n",
      "+--------------------+-------------------+\n",
      "|              ALASKA|                  9|\n",
      "|       MAINLAND-EAST|                 24|\n",
      "|       MAINLAND-WEST|                 36|\n",
      "+--------------------+-------------------+\n",
      "\n"
     ]
    }
   ],
   "source": [
    "BD_uni.groupBy('region_airports_dest')\\\n",
    "        .agg(F.expr('count(distinct faa_airports_dest)').alias('airports per region'))\\\n",
    "        .show()"
   ]
  },
  {
   "cell_type": "markdown",
   "id": "00721a68",
   "metadata": {},
   "source": [
    "### Pergunta 3"
   ]
  },
  {
   "cell_type": "code",
   "execution_count": 45,
   "id": "3cfc8d43",
   "metadata": {
    "scrolled": true
   },
   "outputs": [
    {
     "name": "stdout",
     "output_type": "stream",
     "text": [
      "+---------------------------------------+\n",
      "|max_difference [feet] {diff, ori, dest}|\n",
      "+---------------------------------------+\n",
      "|                     {6169.0, SEA, HDN}|\n",
      "+---------------------------------------+\n",
      "\n"
     ]
    }
   ],
   "source": [
    "BD_uni.select(\n",
    "    F.max(\n",
    "        F.struct(\n",
    "            F.abs(F.col('alt_airports_ori') - F.col('alt_airports_dest')), \n",
    "            F.col('faa_airports_ori'), \n",
    "            F.col('faa_airports_dest'))).alias('max_difference [feet] {diff, ori, dest}'))\\\n",
    ".show()"
   ]
  },
  {
   "cell_type": "markdown",
   "id": "7a2480ef",
   "metadata": {},
   "source": [
    "### Pergunta 4"
   ]
  },
  {
   "cell_type": "code",
   "execution_count": 46,
   "id": "0c6bc495",
   "metadata": {
    "scrolled": true
   },
   "outputs": [
    {
     "name": "stdout",
     "output_type": "stream",
     "text": [
      "+-----------------------+\n",
      "|avg_dep_delay [minutes]|\n",
      "+-----------------------+\n",
      "|                  25.52|\n",
      "+-----------------------+\n",
      "\n"
     ]
    }
   ],
   "source": [
    "BD_uni.filter(F.col('dep_delay_flights') > 0)\\\n",
    "    .select(F.round(F.avg('dep_delay_flights'), 2).alias('avg_dep_delay [minutes]'))\\\n",
    "    .show()"
   ]
  },
  {
   "cell_type": "code",
   "execution_count": 47,
   "id": "d81f0b3a",
   "metadata": {
    "scrolled": true
   },
   "outputs": [
    {
     "name": "stdout",
     "output_type": "stream",
     "text": [
      "+-----------------------+\n",
      "|avg_arr_delay [minutes]|\n",
      "+-----------------------+\n",
      "|                  24.65|\n",
      "+-----------------------+\n",
      "\n"
     ]
    }
   ],
   "source": [
    "BD_uni.filter(F.col('arr_delay_flights') > 0)\\\n",
    "    .select(F.round(F.avg('arr_delay_flights'), 3).alias('avg_arr_delay [minutes]'))\\\n",
    "    .show()"
   ]
  },
  {
   "cell_type": "markdown",
   "id": "a2025246",
   "metadata": {},
   "source": [
    "### Pergunta 5"
   ]
  },
  {
   "cell_type": "code",
   "execution_count": 48,
   "id": "3aee3f60",
   "metadata": {
    "scrolled": false
   },
   "outputs": [
    {
     "name": "stdout",
     "output_type": "stream",
     "text": [
      "+-------------------+-------------------------------+\n",
      "|region_airports_ori|avg_dep_delay_regions [minutes]|\n",
      "+-------------------+-------------------------------+\n",
      "|      MAINLAND-WEST|                          25.52|\n",
      "+-------------------+-------------------------------+\n",
      "\n"
     ]
    }
   ],
   "source": [
    "BD_uni.filter(F.col('dep_delay_flights') > 0)\\\n",
    "    .groupBy('region_airports_ori')\\\n",
    "    .agg(F.round(F.avg('dep_delay_flights'), 2).alias('avg_dep_delay_regions [minutes]'))\\\n",
    "    .show()"
   ]
  },
  {
   "cell_type": "code",
   "execution_count": 49,
   "id": "877d3717",
   "metadata": {},
   "outputs": [
    {
     "name": "stdout",
     "output_type": "stream",
     "text": [
      "+-------------------+-------------------------------+\n",
      "|region_airports_ori|avg_dep_delay_regions [minutes]|\n",
      "+-------------------+-------------------------------+\n",
      "|      MAINLAND-WEST|                          24.65|\n",
      "+-------------------+-------------------------------+\n",
      "\n"
     ]
    }
   ],
   "source": [
    "BD_uni.filter(F.col('arr_delay_flights') > 0)\\\n",
    "    .groupBy('region_airports_ori')\\\n",
    "    .agg(F.round(F.avg('arr_delay_flights'), 2).alias('avg_dep_delay_regions [minutes]'))\\\n",
    "    .show()"
   ]
  },
  {
   "cell_type": "code",
   "execution_count": 50,
   "id": "281b60e2",
   "metadata": {
    "scrolled": true
   },
   "outputs": [
    {
     "name": "stdout",
     "output_type": "stream",
     "text": [
      "+--------------------+-----------------------------------+\n",
      "|region_airports_dest|avg_dep_delay_region_dest [minutes]|\n",
      "+--------------------+-----------------------------------+\n",
      "|              ALASKA|                              20.82|\n",
      "|       MAINLAND-EAST|                              26.33|\n",
      "|       MAINLAND-WEST|                              25.98|\n",
      "+--------------------+-----------------------------------+\n",
      "\n"
     ]
    }
   ],
   "source": [
    "BD_uni.filter(F.col('dep_delay_flights') > 0)\\\n",
    "    .groupBy('region_airports_dest')\\\n",
    "    .agg(F.round(F.avg('dep_delay_flights'), 2).alias('avg_dep_delay_region_dest [minutes]'))\\\n",
    "    .show()"
   ]
  },
  {
   "cell_type": "code",
   "execution_count": 51,
   "id": "d4923f7e",
   "metadata": {},
   "outputs": [
    {
     "name": "stdout",
     "output_type": "stream",
     "text": [
      "+--------------------+-----------------------------------+\n",
      "|region_airports_dest|avg_dep_delay_region_dest [minutes]|\n",
      "+--------------------+-----------------------------------+\n",
      "|              ALASKA|                              22.21|\n",
      "|       MAINLAND-EAST|                              28.53|\n",
      "|       MAINLAND-WEST|                              23.79|\n",
      "+--------------------+-----------------------------------+\n",
      "\n"
     ]
    }
   ],
   "source": [
    "BD_uni.filter(F.col('arr_delay_flights') > 0)\\\n",
    "    .groupBy('region_airports_dest')\\\n",
    "    .agg(F.round(F.avg('arr_delay_flights'), 2).alias('avg_dep_delay_region_dest [minutes]'))\\\n",
    "    .show()"
   ]
  },
  {
   "cell_type": "markdown",
   "id": "ecf42cce",
   "metadata": {},
   "source": [
    "### Pergunta 6"
   ]
  },
  {
   "cell_type": "code",
   "execution_count": 52,
   "id": "71855085",
   "metadata": {
    "scrolled": true
   },
   "outputs": [
    {
     "name": "stdout",
     "output_type": "stream",
     "text": [
      "+-------------------------------+\n",
      "|accumulated_dep_delay [minutes]|\n",
      "+-------------------------------+\n",
      "|                        88314.0|\n",
      "+-------------------------------+\n",
      "\n"
     ]
    }
   ],
   "source": [
    "BD_uni.filter(F.col('dep_delay_flights') > 0)\\\n",
    "    .select(\n",
    "        F.sum('dep_delay_flights')\\\n",
    "        .alias('accumulated_dep_delay [minutes]'))\\\n",
    ".show()"
   ]
  },
  {
   "cell_type": "code",
   "execution_count": 53,
   "id": "68493115",
   "metadata": {},
   "outputs": [
    {
     "name": "stdout",
     "output_type": "stream",
     "text": [
      "+-------------------------------+\n",
      "|accumulated_arr_delay [minutes]|\n",
      "+-------------------------------+\n",
      "|                        91820.0|\n",
      "+-------------------------------+\n",
      "\n"
     ]
    }
   ],
   "source": [
    "BD_uni.filter(F.col('arr_delay_flights') > 0)\\\n",
    "    .select(\n",
    "        F.sum('arr_delay_flights')\\\n",
    "        .alias('accumulated_arr_delay [minutes]'))\\\n",
    ".show()"
   ]
  },
  {
   "cell_type": "markdown",
   "id": "468c8af9",
   "metadata": {},
   "source": [
    "### Pergunta 7"
   ]
  },
  {
   "cell_type": "code",
   "execution_count": 54,
   "id": "b52311cc",
   "metadata": {
    "scrolled": false
   },
   "outputs": [
    {
     "name": "stdout",
     "output_type": "stream",
     "text": [
      "+-------------------+------------------------------------------+\n",
      "|region_airports_ori|accumulated_dep_delay_region_ori [minutes]|\n",
      "+-------------------+------------------------------------------+\n",
      "|      MAINLAND-WEST|                                   88314.0|\n",
      "+-------------------+------------------------------------------+\n",
      "\n"
     ]
    }
   ],
   "source": [
    "BD_uni.filter(F.col('dep_delay_flights') > 0)\\\n",
    "    .groupBy('region_airports_ori')\\\n",
    "        .agg(F.sum('dep_delay_flights')\\\n",
    "             .alias('accumulated_dep_delay_region_ori [minutes]'))\\\n",
    ".show()"
   ]
  },
  {
   "cell_type": "code",
   "execution_count": 55,
   "id": "c6325816",
   "metadata": {},
   "outputs": [
    {
     "name": "stdout",
     "output_type": "stream",
     "text": [
      "+-------------------+------------------------------------------+\n",
      "|region_airports_ori|accumulated_arr_delay_region_ori [minutes]|\n",
      "+-------------------+------------------------------------------+\n",
      "|      MAINLAND-WEST|                                   91820.0|\n",
      "+-------------------+------------------------------------------+\n",
      "\n"
     ]
    }
   ],
   "source": [
    "BD_uni.filter(F.col('arr_delay_flights') > 0)\\\n",
    "    .groupBy('region_airports_ori')\\\n",
    "        .agg(F.sum('arr_delay_flights')\\\n",
    "             .alias('accumulated_arr_delay_region_ori [minutes]'))\\\n",
    ".show()"
   ]
  },
  {
   "cell_type": "code",
   "execution_count": 56,
   "id": "ba7b8b50",
   "metadata": {
    "scrolled": false
   },
   "outputs": [
    {
     "name": "stdout",
     "output_type": "stream",
     "text": [
      "+--------------------+-------------------------------------------+\n",
      "|region_airports_dest|accumulated_dep_delay_region_dest [minutes]|\n",
      "+--------------------+-------------------------------------------+\n",
      "|              ALASKA|                                     7515.0|\n",
      "|       MAINLAND-EAST|                                    21538.0|\n",
      "|       MAINLAND-WEST|                                    59261.0|\n",
      "+--------------------+-------------------------------------------+\n",
      "\n"
     ]
    }
   ],
   "source": [
    "BD_uni.filter(F.col('dep_delay_flights') > 0)\\\n",
    "    .groupBy('region_airports_dest')\\\n",
    "        .agg(F.sum('dep_delay_flights')\\\n",
    "             .alias('accumulated_dep_delay_region_dest [minutes]'))\\\n",
    ".show()"
   ]
  },
  {
   "cell_type": "code",
   "execution_count": 57,
   "id": "d7fa108a",
   "metadata": {},
   "outputs": [
    {
     "name": "stdout",
     "output_type": "stream",
     "text": [
      "+--------------------+-------------------------------------------+\n",
      "|region_airports_dest|accumulated_arr_delay_region_dest [minutes]|\n",
      "+--------------------+-------------------------------------------+\n",
      "|              ALASKA|                                     8640.0|\n",
      "|       MAINLAND-EAST|                                    22938.0|\n",
      "|       MAINLAND-WEST|                                    60242.0|\n",
      "+--------------------+-------------------------------------------+\n",
      "\n"
     ]
    }
   ],
   "source": [
    "BD_uni.filter(F.col('arr_delay_flights') > 0)\\\n",
    "    .groupBy('region_airports_dest')\\\n",
    "        .agg(F.sum('arr_delay_flights')\\\n",
    "             .alias('accumulated_arr_delay_region_dest [minutes]'))\\\n",
    ".show()"
   ]
  },
  {
   "cell_type": "markdown",
   "id": "ed39ad41",
   "metadata": {},
   "source": [
    "### Pergunta 8"
   ]
  },
  {
   "cell_type": "code",
   "execution_count": 58,
   "id": "3fe9592a",
   "metadata": {},
   "outputs": [
    {
     "name": "stdout",
     "output_type": "stream",
     "text": [
      "+-----------------------+\n",
      "|mean_air_time [minutes]|\n",
      "+-----------------------+\n",
      "|               152.9479|\n",
      "+-----------------------+\n",
      "\n"
     ]
    }
   ],
   "source": [
    "BD_uni.select(F.mean('air_time_flights').alias('mean_air_time [minutes]')).show()"
   ]
  },
  {
   "cell_type": "markdown",
   "id": "50a023f7",
   "metadata": {},
   "source": [
    "### Pergunta 9"
   ]
  },
  {
   "cell_type": "code",
   "execution_count": 59,
   "id": "00240008",
   "metadata": {
    "scrolled": true
   },
   "outputs": [
    {
     "name": "stdout",
     "output_type": "stream",
     "text": [
      "+-------------------+------------------------------+\n",
      "|region_airports_ori|mean_air_time_region [minutes]|\n",
      "+-------------------+------------------------------+\n",
      "|      MAINLAND-WEST|                      152.9479|\n",
      "+-------------------+------------------------------+\n",
      "\n"
     ]
    }
   ],
   "source": [
    "BD_uni.groupBy('region_airports_ori')\\\n",
    "    .agg(F.mean('air_time_flights').alias('mean_air_time_region [minutes]'))\\\n",
    "    .show()"
   ]
  },
  {
   "cell_type": "code",
   "execution_count": 60,
   "id": "18d97342",
   "metadata": {
    "scrolled": true
   },
   "outputs": [
    {
     "name": "stdout",
     "output_type": "stream",
     "text": [
      "+--------------------+------------------------------+\n",
      "|region_airports_dest|mean_air_time_region [minutes]|\n",
      "+--------------------+------------------------------+\n",
      "|              ALASKA|                       228.141|\n",
      "|       MAINLAND-EAST|                       237.119|\n",
      "|       MAINLAND-WEST|                       115.461|\n",
      "+--------------------+------------------------------+\n",
      "\n"
     ]
    }
   ],
   "source": [
    "BD_uni.groupBy('region_airports_dest')\\\n",
    "    .agg(F.round(F.mean('air_time_flights'), 3).alias('mean_air_time_region [minutes]'))\\\n",
    "    .show()"
   ]
  },
  {
   "cell_type": "markdown",
   "id": "1a55855a",
   "metadata": {},
   "source": [
    "### Pergunta 10"
   ]
  },
  {
   "cell_type": "code",
   "execution_count": 61,
   "id": "4f09b1c0",
   "metadata": {
    "scrolled": true
   },
   "outputs": [
    {
     "name": "stdout",
     "output_type": "stream",
     "text": [
      "+----------------+-----------------+------------------------+\n",
      "|faa_airports_ori|faa_airports_dest|air_time_route [minutes]|\n",
      "+----------------+-----------------+------------------------+\n",
      "|             SEA|              RNO|                    76.0|\n",
      "|             SEA|              DTW|                   220.0|\n",
      "|             SEA|              CLE|                   234.0|\n",
      "|             SEA|              LAX|                   127.0|\n",
      "|             PDX|              SEA|                    35.0|\n",
      "|             SEA|              BLI|                    29.0|\n",
      "|             PDX|              IAH|                   214.0|\n",
      "|             PDX|              PHX|                   130.0|\n",
      "|             SEA|              SLC|                    89.0|\n",
      "|             SEA|              SBA|                   118.0|\n",
      "|             SEA|              BWI|                   270.0|\n",
      "|             PDX|              IAD|                   268.0|\n",
      "|             PDX|              SFO|                    85.0|\n",
      "|             SEA|              KOA|                   347.0|\n",
      "|             PDX|              MCI|                   174.0|\n",
      "|             SEA|              SJC|                   103.0|\n",
      "|             SEA|              ABQ|                   143.0|\n",
      "|             SEA|              SAT|                   208.0|\n",
      "|             PDX|              ONT|                   112.0|\n",
      "|             SEA|              LAS|                   118.0|\n",
      "+----------------+-----------------+------------------------+\n",
      "only showing top 20 rows\n",
      "\n"
     ]
    }
   ],
   "source": [
    "BD_uni.groupBy('faa_airports_ori', 'faa_airports_dest')\\\n",
    "    .agg(F.mean('air_time_flights').alias('air_time_route [minutes]'))\\\n",
    "    .show()"
   ]
  },
  {
   "cell_type": "markdown",
   "id": "73a37430",
   "metadata": {},
   "source": [
    "### Pergunta 11"
   ]
  },
  {
   "cell_type": "code",
   "execution_count": 62,
   "id": "54322e65",
   "metadata": {
    "scrolled": true
   },
   "outputs": [
    {
     "name": "stdout",
     "output_type": "stream",
     "text": [
      "+----+-----------------------------------+\n",
      "|year|accumulated_air_time_year [minutes]|\n",
      "+----+-----------------------------------+\n",
      "|2014|                            1529479|\n",
      "+----+-----------------------------------+\n",
      "\n"
     ]
    }
   ],
   "source": [
    "BD_uni.groupBy(F.year('dep_datetime_flights').alias('year'))\\\n",
    "    .agg(F.sum('air_time_flights').alias('accumulated_air_time_year [minutes]'))\\\n",
    "    .show()"
   ]
  },
  {
   "cell_type": "markdown",
   "id": "29dacae6",
   "metadata": {},
   "source": [
    "### Pergunta 12"
   ]
  },
  {
   "cell_type": "code",
   "execution_count": 63,
   "id": "e390651f",
   "metadata": {
    "scrolled": true
   },
   "outputs": [
    {
     "name": "stdout",
     "output_type": "stream",
     "text": [
      "+-------------------+-----------------------------------------+\n",
      "|region_airports_ori|accumulated_air_time_region_ori [minutes]|\n",
      "+-------------------+-----------------------------------------+\n",
      "|      MAINLAND-WEST|                                  1529479|\n",
      "+-------------------+-----------------------------------------+\n",
      "\n"
     ]
    }
   ],
   "source": [
    "BD_uni.groupBy('region_airports_ori')\\\n",
    "    .agg(F.sum('air_time_flights').alias('accumulated_air_time_region_ori [minutes]'))\\\n",
    "    .show()"
   ]
  },
  {
   "cell_type": "code",
   "execution_count": 64,
   "id": "1e94c22b",
   "metadata": {},
   "outputs": [
    {
     "name": "stdout",
     "output_type": "stream",
     "text": [
      "+--------------------+------------------------------------------+\n",
      "|region_airports_dest|accumulated_air_time_region_dest [minutes]|\n",
      "+--------------------+------------------------------------------+\n",
      "|              ALASKA|                                    230879|\n",
      "|       MAINLAND-EAST|                                    508384|\n",
      "|       MAINLAND-WEST|                                    790216|\n",
      "+--------------------+------------------------------------------+\n",
      "\n"
     ]
    }
   ],
   "source": [
    "BD_uni.groupBy('region_airports_dest')\\\n",
    "    .agg(F.sum('air_time_flights').alias('accumulated_air_time_region_dest [minutes]'))\\\n",
    "    .show()"
   ]
  },
  {
   "cell_type": "markdown",
   "id": "9a5cbce5",
   "metadata": {},
   "source": [
    "### Pergunta 13"
   ]
  },
  {
   "cell_type": "code",
   "execution_count": 65,
   "id": "1d384bf8",
   "metadata": {
    "scrolled": true
   },
   "outputs": [
    {
     "name": "stdout",
     "output_type": "stream",
     "text": [
      "+-----------------------------+\n",
      "|mean_distance_flights [Miles]|\n",
      "+-----------------------------+\n",
      "|                      1208.15|\n",
      "+-----------------------------+\n",
      "\n"
     ]
    }
   ],
   "source": [
    "BD_uni.select(F.round(F.avg('distance_flights'), 2).alias('mean_distance_flights [Miles]')).show()"
   ]
  },
  {
   "cell_type": "markdown",
   "id": "5d44b628",
   "metadata": {},
   "source": [
    "### Pergunta 14"
   ]
  },
  {
   "cell_type": "code",
   "execution_count": 66,
   "id": "b54cc5de",
   "metadata": {
    "scrolled": true
   },
   "outputs": [
    {
     "name": "stdout",
     "output_type": "stream",
     "text": [
      "+-------------------+----------------------------------------+\n",
      "|region_airports_ori|mean_distance_flights_region_ori [Miles]|\n",
      "+-------------------+----------------------------------------+\n",
      "|      MAINLAND-WEST|                                 1208.15|\n",
      "+-------------------+----------------------------------------+\n",
      "\n"
     ]
    }
   ],
   "source": [
    "BD_uni.groupBy('region_airports_ori')\\\n",
    "    .agg(F.round(F.mean('distance_flights'), 2).alias('mean_distance_flights_region_ori [Miles]'))\\\n",
    "    .show()"
   ]
  },
  {
   "cell_type": "code",
   "execution_count": 67,
   "id": "7aaca9a2",
   "metadata": {},
   "outputs": [
    {
     "name": "stdout",
     "output_type": "stream",
     "text": [
      "+--------------------+---------------------------------+\n",
      "|region_airports_dest|mean_distance_region_dest [Miles]|\n",
      "+--------------------+---------------------------------+\n",
      "|              ALASKA|                          1741.65|\n",
      "|       MAINLAND-EAST|                           2042.4|\n",
      "|       MAINLAND-WEST|                           867.92|\n",
      "+--------------------+---------------------------------+\n",
      "\n"
     ]
    }
   ],
   "source": [
    "BD_uni.groupBy('region_airports_dest')\\\n",
    "    .agg(F.round(F.avg('distance_flights'), 2).alias('mean_distance_region_dest [Miles]'))\\\n",
    "    .show()"
   ]
  },
  {
   "cell_type": "markdown",
   "id": "536230ee",
   "metadata": {},
   "source": [
    "### Pergunta 15"
   ]
  },
  {
   "cell_type": "code",
   "execution_count": 68,
   "id": "b4051105",
   "metadata": {
    "scrolled": true
   },
   "outputs": [
    {
     "name": "stdout",
     "output_type": "stream",
     "text": [
      "+--------------+------------+---------------------------+\n",
      "|origin_flights|dest_flights|mean_distance_route [Miles]|\n",
      "+--------------+------------+---------------------------+\n",
      "|           SEA|         RNO|                      564.0|\n",
      "|           SEA|         DTW|                     1927.0|\n",
      "|           SEA|         CLE|                     2021.0|\n",
      "|           SEA|         LAX|                      954.0|\n",
      "|           PDX|         SEA|                      129.0|\n",
      "|           SEA|         BLI|                       93.0|\n",
      "|           PDX|         IAH|                     1825.0|\n",
      "|           PDX|         PHX|                     1009.0|\n",
      "|           SEA|         SLC|                      689.0|\n",
      "|           SEA|         SBA|                      908.0|\n",
      "|           SEA|         BWI|                     2335.0|\n",
      "|           PDX|         IAD|                     2327.0|\n",
      "|           PDX|         SFO|                      550.0|\n",
      "|           SEA|         KOA|                     2688.0|\n",
      "|           PDX|         MCI|                     1482.0|\n",
      "|           SEA|         SJC|                      697.0|\n",
      "|           SEA|         ABQ|                     1180.0|\n",
      "|           SEA|         SAT|                     1774.0|\n",
      "|           PDX|         ONT|                      838.0|\n",
      "|           SEA|         LAS|                      867.0|\n",
      "+--------------+------------+---------------------------+\n",
      "only showing top 20 rows\n",
      "\n"
     ]
    }
   ],
   "source": [
    "BD_uni.groupBy('origin_flights', 'dest_flights')\\\n",
    "    .agg(F.mean('distance_flights').alias('mean_distance_route [Miles]'))\\\n",
    "    .show()"
   ]
  },
  {
   "cell_type": "markdown",
   "id": "57bb3a4b",
   "metadata": {},
   "source": [
    "### Pergunta 16"
   ]
  },
  {
   "cell_type": "code",
   "execution_count": 69,
   "id": "0cfc5c14",
   "metadata": {
    "scrolled": true
   },
   "outputs": [
    {
     "name": "stdout",
     "output_type": "stream",
     "text": [
      "+----+-----------------------------------------+\n",
      "|year|accumulated_distance_flights_year [Miles]|\n",
      "+----+-----------------------------------------+\n",
      "|2014|                                 12081516|\n",
      "+----+-----------------------------------------+\n",
      "\n"
     ]
    }
   ],
   "source": [
    "BD_uni.groupBy(F.year('dep_datetime_flights').alias('year'))\\\n",
    "    .agg(F.sum('distance_flights').alias('accumulated_distance_flights_year [Miles]'))\\\n",
    "    .show()"
   ]
  },
  {
   "cell_type": "markdown",
   "id": "be77c27f",
   "metadata": {},
   "source": [
    "### Pergunta 17"
   ]
  },
  {
   "cell_type": "code",
   "execution_count": 70,
   "id": "a10677f4",
   "metadata": {
    "scrolled": true
   },
   "outputs": [
    {
     "name": "stdout",
     "output_type": "stream",
     "text": [
      "+-------------------+-----------------------------------------------+\n",
      "|region_airports_ori|accumulated_distance_flights_region_ori [Miles]|\n",
      "+-------------------+-----------------------------------------------+\n",
      "|      MAINLAND-WEST|                                       12081516|\n",
      "+-------------------+-----------------------------------------------+\n",
      "\n"
     ]
    }
   ],
   "source": [
    "BD_uni.groupBy('region_airports_ori')\\\n",
    "    .agg(F.sum('distance_flights').alias('accumulated_distance_flights_region_ori [Miles]'))\\\n",
    "    .show()"
   ]
  },
  {
   "cell_type": "code",
   "execution_count": 71,
   "id": "50a75904",
   "metadata": {},
   "outputs": [
    {
     "name": "stdout",
     "output_type": "stream",
     "text": [
      "+--------------------+-----------------------------------------+\n",
      "|region_airports_dest|accumulated_distance_flights_dest [Miles]|\n",
      "+--------------------+-----------------------------------------+\n",
      "|              ALASKA|                                  1762553|\n",
      "|       MAINLAND-EAST|                                  4378902|\n",
      "|       MAINLAND-WEST|                                  5940061|\n",
      "+--------------------+-----------------------------------------+\n",
      "\n"
     ]
    }
   ],
   "source": [
    "BD_uni.groupBy('region_airports_dest')\\\n",
    "    .agg(F.sum('distance_flights').alias('accumulated_distance_flights_dest [Miles]'))\\\n",
    "    .show()"
   ]
  },
  {
   "cell_type": "markdown",
   "id": "3bfbc4a8",
   "metadata": {},
   "source": [
    "### Pergunta 18"
   ]
  },
  {
   "cell_type": "code",
   "execution_count": 72,
   "id": "09800790",
   "metadata": {
    "scrolled": true
   },
   "outputs": [
    {
     "name": "stdout",
     "output_type": "stream",
     "text": [
      "+--------------+------------+---------------------+\n",
      "|origin_flights|dest_flights|mean_passengers_route|\n",
      "+--------------+------------+---------------------+\n",
      "|           SEA|         RNO|                  141|\n",
      "|           SEA|         DTW|                  212|\n",
      "|           SEA|         CLE|                  182|\n",
      "|           SEA|         LAX|                  155|\n",
      "|           PDX|         SEA|                   64|\n",
      "|           SEA|         BLI|                  164|\n",
      "|           PDX|         IAH|                  183|\n",
      "|           PDX|         PHX|                  196|\n",
      "|           SEA|         SLC|                  166|\n",
      "|           SEA|         SBA|                   80|\n",
      "|           SEA|         BWI|                  151|\n",
      "|           PDX|         IAD|                  187|\n",
      "|           PDX|         SFO|                  138|\n",
      "|           SEA|         KOA|                  171|\n",
      "|           PDX|         MCI|                  147|\n",
      "|           SEA|         SJC|                  137|\n",
      "|           SEA|         ABQ|                  144|\n",
      "|           SEA|         SAT|                  158|\n",
      "|           PDX|         ONT|                   79|\n",
      "|           SEA|         LAS|                  147|\n",
      "+--------------+------------+---------------------+\n",
      "only showing top 20 rows\n",
      "\n"
     ]
    }
   ],
   "source": [
    "BD_uni.groupBy('origin_flights', 'dest_flights')\\\n",
    "    .agg(F.round(F.mean('seats_planes'), 0).cast('int').alias('mean_passengers_route'))\\\n",
    "    .show()"
   ]
  },
  {
   "cell_type": "code",
   "execution_count": 73,
   "id": "2503e1c5",
   "metadata": {},
   "outputs": [
    {
     "name": "stdout",
     "output_type": "stream",
     "text": [
      "+--------------+------------+---------------------+\n",
      "|origin_flights|dest_flights|mean_passengers_route|\n",
      "+--------------+------------+---------------------+\n",
      "|           SEA|         RNO|               141.13|\n",
      "|           SEA|         DTW|               212.43|\n",
      "|           SEA|         CLE|                182.0|\n",
      "|           SEA|         LAX|               154.71|\n",
      "|           PDX|         SEA|                64.28|\n",
      "|           SEA|         BLI|                163.6|\n",
      "|           PDX|         IAH|               182.64|\n",
      "|           PDX|         PHX|               195.64|\n",
      "|           SEA|         SLC|               165.93|\n",
      "|           SEA|         SBA|                 80.0|\n",
      "|           SEA|         BWI|               151.28|\n",
      "|           PDX|         IAD|               187.39|\n",
      "|           PDX|         SFO|               138.28|\n",
      "|           SEA|         KOA|                170.9|\n",
      "|           PDX|         MCI|                146.6|\n",
      "|           SEA|         SJC|               136.97|\n",
      "|           SEA|         ABQ|               144.47|\n",
      "|           SEA|         SAT|               157.78|\n",
      "|           PDX|         ONT|                79.12|\n",
      "|           SEA|         LAS|               146.91|\n",
      "+--------------+------------+---------------------+\n",
      "only showing top 20 rows\n",
      "\n"
     ]
    }
   ],
   "source": [
    "BD_uni.groupBy('origin_flights', 'dest_flights')\\\n",
    "    .agg(F.round(F.mean('seats_planes'), 2).alias('mean_passengers_route'))\\\n",
    "    .show()"
   ]
  },
  {
   "cell_type": "markdown",
   "id": "75a0d584",
   "metadata": {},
   "source": [
    "### Pergunta 19"
   ]
  },
  {
   "cell_type": "code",
   "execution_count": 74,
   "id": "3aa0a659",
   "metadata": {
    "scrolled": true
   },
   "outputs": [
    {
     "name": "stdout",
     "output_type": "stream",
     "text": [
      "+----+---------------------------+\n",
      "|year|accumulated_passengers_year|\n",
      "+----+---------------------------+\n",
      "|2014|                    1509393|\n",
      "+----+---------------------------+\n",
      "\n"
     ]
    }
   ],
   "source": [
    "BD_uni.groupBy(F.year('dep_datetime_flights').alias('year'))\\\n",
    "    .agg(F.sum('seats_planes').alias('accumulated_passengers_year'))\\\n",
    "    .show()"
   ]
  },
  {
   "cell_type": "markdown",
   "id": "ad8da92a",
   "metadata": {},
   "source": [
    "### Pergunta 20"
   ]
  },
  {
   "cell_type": "code",
   "execution_count": 75,
   "id": "3fc92ced",
   "metadata": {
    "scrolled": true
   },
   "outputs": [
    {
     "name": "stdout",
     "output_type": "stream",
     "text": [
      "+------------+-----------------+\n",
      "|dest_flights|most_popular_dest|\n",
      "+------------+-----------------+\n",
      "|         SFO|              787|\n",
      "+------------+-----------------+\n",
      "\n"
     ]
    }
   ],
   "source": [
    "BD_uni.groupBy('dest_flights')\\\n",
    "    .agg(F.count('faa_airports_dest').alias('most_popular_dest'))\\\n",
    "    .agg(F.max(F.struct(F.col('most_popular_dest'),\n",
    "                    F.col('dest_flights'))).alias('most_popular'))\\\n",
    "    .select('most_popular.dest_flights', 'most_popular.most_popular_dest').show()"
   ]
  },
  {
   "cell_type": "markdown",
   "id": "45d4d53c",
   "metadata": {},
   "source": [
    "### Pergunta 21"
   ]
  },
  {
   "cell_type": "code",
   "execution_count": 76,
   "id": "eef594ea",
   "metadata": {},
   "outputs": [
    {
     "name": "stdout",
     "output_type": "stream",
     "text": [
      "+------------+-----------------+\n",
      "|dest_flights|most_popular_dest|\n",
      "+------------+-----------------+\n",
      "|         SFO|           119635|\n",
      "+------------+-----------------+\n",
      "\n"
     ]
    }
   ],
   "source": [
    "BD_uni.groupBy('dest_flights')\\\n",
    "    .agg(F.sum('seats_planes').alias('most_popular_dest'))\\\n",
    "    .agg(F.max(F.struct(F.col('most_popular_dest'),\n",
    "                    F.col('dest_flights'))).alias('most_popular'))\\\n",
    "    .select('most_popular.dest_flights', 'most_popular.most_popular_dest').show()"
   ]
  },
  {
   "cell_type": "markdown",
   "id": "9c71f4fa",
   "metadata": {},
   "source": [
    "### Pergunta 22"
   ]
  },
  {
   "cell_type": "code",
   "execution_count": 77,
   "id": "f56b72f0",
   "metadata": {},
   "outputs": [
    {
     "name": "stdout",
     "output_type": "stream",
     "text": [
      "+------------+\n",
      "|most_distant|\n",
      "+------------+\n",
      "| {2631, LIH}|\n",
      "+------------+\n",
      "\n"
     ]
    }
   ],
   "source": [
    "BD_uni.filter(F.col('origin_flights') == 'PDX')\\\n",
    "    .select(\n",
    "        F.max(\n",
    "            F.struct(\n",
    "                F.col('distance_flights'), F.col('dest_flights'))).alias('most_distant')).show()"
   ]
  },
  {
   "cell_type": "markdown",
   "id": "54b9ca8f",
   "metadata": {},
   "source": [
    "### Pergunta 23"
   ]
  },
  {
   "cell_type": "code",
   "execution_count": 78,
   "id": "1ae3a17f",
   "metadata": {
    "scrolled": true
   },
   "outputs": [
    {
     "name": "stdout",
     "output_type": "stream",
     "text": [
      "Month 1:\n",
      "+------------+-----+\n",
      "|dest_flights|count|\n",
      "+------------+-----+\n",
      "|         PHX|   52|\n",
      "+------------+-----+\n",
      "only showing top 1 row\n",
      "\n",
      "Month 2:\n",
      "+------------+-----+\n",
      "|dest_flights|count|\n",
      "+------------+-----+\n",
      "|         LAX|   52|\n",
      "+------------+-----+\n",
      "only showing top 1 row\n",
      "\n",
      "Month 3:\n",
      "+------------+-----+\n",
      "|dest_flights|count|\n",
      "+------------+-----+\n",
      "|         SFO|   62|\n",
      "+------------+-----+\n",
      "only showing top 1 row\n",
      "\n",
      "Month 4:\n",
      "+------------+-----+\n",
      "|dest_flights|count|\n",
      "+------------+-----+\n",
      "|         SFO|   70|\n",
      "+------------+-----+\n",
      "only showing top 1 row\n",
      "\n",
      "Month 5:\n",
      "+------------+-----+\n",
      "|dest_flights|count|\n",
      "+------------+-----+\n",
      "|         LAX|   77|\n",
      "+------------+-----+\n",
      "only showing top 1 row\n",
      "\n",
      "Month 6:\n",
      "+------------+-----+\n",
      "|dest_flights|count|\n",
      "+------------+-----+\n",
      "|         ANC|   61|\n",
      "+------------+-----+\n",
      "only showing top 1 row\n",
      "\n",
      "Month 7:\n",
      "+------------+-----+\n",
      "|dest_flights|count|\n",
      "+------------+-----+\n",
      "|         SFO|   71|\n",
      "+------------+-----+\n",
      "only showing top 1 row\n",
      "\n",
      "Month 8:\n",
      "+------------+-----+\n",
      "|dest_flights|count|\n",
      "+------------+-----+\n",
      "|         SFO|   75|\n",
      "+------------+-----+\n",
      "only showing top 1 row\n",
      "\n",
      "Month 9:\n",
      "+------------+-----+\n",
      "|dest_flights|count|\n",
      "+------------+-----+\n",
      "|         SFO|   69|\n",
      "+------------+-----+\n",
      "only showing top 1 row\n",
      "\n",
      "Month 10:\n",
      "+------------+-----+\n",
      "|dest_flights|count|\n",
      "+------------+-----+\n",
      "|         SFO|   66|\n",
      "+------------+-----+\n",
      "only showing top 1 row\n",
      "\n",
      "Month 11:\n",
      "+------------+-----+\n",
      "|dest_flights|count|\n",
      "+------------+-----+\n",
      "|         SFO|   68|\n",
      "+------------+-----+\n",
      "only showing top 1 row\n",
      "\n",
      "Month 12:\n",
      "+------------+-----+\n",
      "|dest_flights|count|\n",
      "+------------+-----+\n",
      "|         SFO|   76|\n",
      "+------------+-----+\n",
      "only showing top 1 row\n",
      "\n"
     ]
    }
   ],
   "source": [
    "for i in range(12):\n",
    "    print(f'Month {i + 1}:')\n",
    "    BD_uni.filter(F.month(F.col('dep_datetime_flights')) == i + 1)\\\n",
    "        .groupBy('dest_flights')\\\n",
    "        .count()\\\n",
    "        .sort('count', ascending = False)\\\n",
    "        .show(1)"
   ]
  },
  {
   "cell_type": "markdown",
   "id": "216c33c2",
   "metadata": {},
   "source": [
    "### Pergunta 24"
   ]
  },
  {
   "cell_type": "code",
   "execution_count": 79,
   "id": "f2cd4c3c",
   "metadata": {
    "scrolled": true
   },
   "outputs": [
    {
     "name": "stdout",
     "output_type": "stream",
     "text": [
      "+------------+-----+\n",
      "|model_planes|count|\n",
      "+------------+-----+\n",
      "|     737-890| 1463|\n",
      "+------------+-----+\n",
      "only showing top 1 row\n",
      "\n"
     ]
    }
   ],
   "source": [
    "BD_uni.filter(F.col('model_planes').isNotNull()).groupBy('model_planes').count().sort('count', ascending = False).show(1)"
   ]
  },
  {
   "cell_type": "markdown",
   "id": "d3472234",
   "metadata": {},
   "source": [
    "### Pergunta 25"
   ]
  },
  {
   "cell_type": "code",
   "execution_count": 80,
   "id": "eaee0d91",
   "metadata": {},
   "outputs": [],
   "source": [
    "list_dest = [k.dest_flights for k in BD_uni.select('dest_flights').distinct().collect()]"
   ]
  },
  {
   "cell_type": "code",
   "execution_count": 81,
   "id": "ffada777",
   "metadata": {
    "scrolled": true
   },
   "outputs": [
    {
     "name": "stdout",
     "output_type": "stream",
     "text": [
      "MSY\n",
      "GEG\n",
      "BUR\n",
      "SNA\n",
      "EUG\n",
      "OAK\n",
      "DCA\n",
      "RDM\n",
      "KTN\n",
      "LIH\n",
      "IAH\n",
      "HNL\n",
      "SJC\n",
      "CVG\n",
      "AUS\n",
      "LGB\n",
      "RNO\n",
      "BOS\n",
      "EWR\n",
      "LAS\n",
      "FAI\n",
      "DEN\n",
      "SBA\n",
      "PSP\n",
      "IAD\n",
      "BOI\n",
      "SEA\n",
      "MCI\n",
      "CLT\n",
      "BNA\n",
      "BLI\n",
      "ABQ\n",
      "CLE\n",
      "PDX\n",
      "MIA\n",
      "TPA\n",
      "BWI\n",
      "SMF\n",
      "PHX\n",
      "STL\n",
      "DFW\n",
      "HDN\n",
      "LMT\n",
      "SFO\n",
      "ATL\n",
      "FLL\n",
      "OMA\n",
      "FAT\n",
      "ORD\n",
      "MKE\n",
      "TUS\n",
      "MDW\n",
      "COS\n",
      "JNU\n",
      "KOA\n",
      "DTW\n",
      "HOU\n",
      "ONT\n",
      "LAX\n",
      "MSP\n",
      "SIT\n",
      "MCO\n",
      "SAN\n",
      "ANC\n",
      "JFK\n",
      "PHL\n",
      "OGG\n",
      "SLC\n",
      "SAT\n"
     ]
    }
   ],
   "source": [
    "for i in list_dest:\n",
    "    print(i)"
   ]
  },
  {
   "cell_type": "code",
   "execution_count": 82,
   "id": "a018dda8",
   "metadata": {
    "scrolled": true
   },
   "outputs": [
    {
     "name": "stdout",
     "output_type": "stream",
     "text": [
      "+------------+------------+-----+\n",
      "|dest_flights|model_planes|count|\n",
      "+------------+------------+-----+\n",
      "|         MSY|     737-890|    6|\n",
      "+------------+------------+-----+\n",
      "only showing top 1 row\n",
      "\n",
      "+------------+------------+-----+\n",
      "|dest_flights|model_planes|count|\n",
      "+------------+------------+-----+\n",
      "|         GEG|     737-490|   44|\n",
      "+------------+------------+-----+\n",
      "only showing top 1 row\n",
      "\n",
      "+------------+------------+-----+\n",
      "|dest_flights|model_planes|count|\n",
      "+------------+------------+-----+\n",
      "|         BUR| CL-600-2C10|   70|\n",
      "+------------+------------+-----+\n",
      "only showing top 1 row\n",
      "\n",
      "+------------+------------+-----+\n",
      "|dest_flights|model_planes|count|\n",
      "+------------+------------+-----+\n",
      "|         SNA|     737-790|  122|\n",
      "+------------+------------+-----+\n",
      "only showing top 1 row\n",
      "\n",
      "+------------+------------+-----+\n",
      "|dest_flights|model_planes|count|\n",
      "+------------+------------+-----+\n",
      "|         EUG|   EMB-120ER|   37|\n",
      "+------------+------------+-----+\n",
      "only showing top 1 row\n",
      "\n",
      "+------------+------------+-----+\n",
      "|dest_flights|model_planes|count|\n",
      "+------------+------------+-----+\n",
      "|         OAK|     737-7H4|  141|\n",
      "+------------+------------+-----+\n",
      "only showing top 1 row\n",
      "\n",
      "+------------+------------+-----+\n",
      "|dest_flights|model_planes|count|\n",
      "+------------+------------+-----+\n",
      "|         DCA|     737-890|   69|\n",
      "+------------+------------+-----+\n",
      "\n",
      "+------------+------------+-----+\n",
      "|dest_flights|model_planes|count|\n",
      "+------------+------------+-----+\n",
      "|         RDM|   EMB-120ER|   49|\n",
      "+------------+------------+-----+\n",
      "only showing top 1 row\n",
      "\n",
      "+------------+------------+-----+\n",
      "|dest_flights|model_planes|count|\n",
      "+------------+------------+-----+\n",
      "|         KTN|     737-490|   42|\n",
      "+------------+------------+-----+\n",
      "only showing top 1 row\n",
      "\n",
      "+------------+------------+-----+\n",
      "|dest_flights|model_planes|count|\n",
      "+------------+------------+-----+\n",
      "|         LIH|     737-890|   37|\n",
      "+------------+------------+-----+\n",
      "\n",
      "+------------+------------+-----+\n",
      "|dest_flights|model_planes|count|\n",
      "+------------+------------+-----+\n",
      "|         IAH|    A320-232|   67|\n",
      "+------------+------------+-----+\n",
      "only showing top 1 row\n",
      "\n",
      "+------------+------------+-----+\n",
      "|dest_flights|model_planes|count|\n",
      "+------------+------------+-----+\n",
      "|         HNL|    A330-243|   48|\n",
      "+------------+------------+-----+\n",
      "only showing top 1 row\n",
      "\n",
      "+------------+------------+-----+\n",
      "|dest_flights|model_planes|count|\n",
      "+------------+------------+-----+\n",
      "|         SJC|     737-7H4|   89|\n",
      "+------------+------------+-----+\n",
      "only showing top 1 row\n",
      "\n",
      "+------------+------------+-----+\n",
      "|dest_flights|model_planes|count|\n",
      "+------------+------------+-----+\n",
      "|         CVG|     737-832|    2|\n",
      "+------------+------------+-----+\n",
      "only showing top 1 row\n",
      "\n",
      "+------------+------------+-----+\n",
      "|dest_flights|model_planes|count|\n",
      "+------------+------------+-----+\n",
      "|         AUS|   737-990ER|   10|\n",
      "+------------+------------+-----+\n",
      "only showing top 1 row\n",
      "\n",
      "+------------+------------+-----+\n",
      "|dest_flights|model_planes|count|\n",
      "+------------+------------+-----+\n",
      "|         LGB|    A320-232|  102|\n",
      "+------------+------------+-----+\n",
      "only showing top 1 row\n",
      "\n",
      "+------------+------------+-----+\n",
      "|dest_flights|model_planes|count|\n",
      "+------------+------------+-----+\n",
      "|         RNO|     737-7H4|   19|\n",
      "+------------+------------+-----+\n",
      "only showing top 1 row\n",
      "\n",
      "+------------+------------+-----+\n",
      "|dest_flights|model_planes|count|\n",
      "+------------+------------+-----+\n",
      "|         BOS|    A320-232|   55|\n",
      "+------------+------------+-----+\n",
      "only showing top 1 row\n",
      "\n",
      "+------------+------------+-----+\n",
      "|dest_flights|model_planes|count|\n",
      "+------------+------------+-----+\n",
      "|         EWR|   737-990ER|   36|\n",
      "+------------+------------+-----+\n",
      "only showing top 1 row\n",
      "\n",
      "+------------+------------+-----+\n",
      "|dest_flights|model_planes|count|\n",
      "+------------+------------+-----+\n",
      "|         LAS|     737-890|  108|\n",
      "+------------+------------+-----+\n",
      "only showing top 1 row\n",
      "\n",
      "+------------+------------+-----+\n",
      "|dest_flights|model_planes|count|\n",
      "+------------+------------+-----+\n",
      "|         FAI|   737-990ER|   30|\n",
      "+------------+------------+-----+\n",
      "only showing top 1 row\n",
      "\n",
      "+------------+------------+-----+\n",
      "|dest_flights|model_planes|count|\n",
      "+------------+------------+-----+\n",
      "|         DEN|    A320-214|  102|\n",
      "+------------+------------+-----+\n",
      "only showing top 1 row\n",
      "\n",
      "+------------+------------+-----+\n",
      "|dest_flights|model_planes|count|\n",
      "+------------+------------+-----+\n",
      "|         SBA| CL-600-2C10|   45|\n",
      "+------------+------------+-----+\n",
      "only showing top 1 row\n",
      "\n",
      "+------------+------------+-----+\n",
      "|dest_flights|model_planes|count|\n",
      "+------------+------------+-----+\n",
      "|         PSP|     737-790|   14|\n",
      "+------------+------------+-----+\n",
      "only showing top 1 row\n",
      "\n",
      "+------------+------------+-----+\n",
      "|dest_flights|model_planes|count|\n",
      "+------------+------------+-----+\n",
      "|         IAD|   737-924ER|   25|\n",
      "+------------+------------+-----+\n",
      "only showing top 1 row\n",
      "\n",
      "+------------+------------+-----+\n",
      "|dest_flights|model_planes|count|\n",
      "+------------+------------+-----+\n",
      "|         BOI| CL-600-2C10|    7|\n",
      "+------------+------------+-----+\n",
      "\n",
      "+------------+------------+-----+\n",
      "|dest_flights|model_planes|count|\n",
      "+------------+------------+-----+\n",
      "|         SEA|   EMB-120ER|   67|\n",
      "+------------+------------+-----+\n",
      "only showing top 1 row\n",
      "\n",
      "+------------+------------+-----+\n",
      "|dest_flights|model_planes|count|\n",
      "+------------+------------+-----+\n",
      "|         MCI|     737-890|    9|\n",
      "+------------+------------+-----+\n",
      "only showing top 1 row\n",
      "\n",
      "+------------+------------+-----+\n",
      "|dest_flights|model_planes|count|\n",
      "+------------+------------+-----+\n",
      "|         CLT|    A321-231|   33|\n",
      "+------------+------------+-----+\n",
      "only showing top 1 row\n",
      "\n",
      "+------------+------------+-----+\n",
      "|dest_flights|model_planes|count|\n",
      "+------------+------------+-----+\n",
      "|         BNA|     737-8H4|    6|\n",
      "+------------+------------+-----+\n",
      "only showing top 1 row\n",
      "\n",
      "+------------+------------+-----+\n",
      "|dest_flights|model_planes|count|\n",
      "+------------+------------+-----+\n",
      "|         BLI|     737-890|    3|\n",
      "+------------+------------+-----+\n",
      "only showing top 1 row\n",
      "\n",
      "+------------+------------+-----+\n",
      "|dest_flights|model_planes|count|\n",
      "+------------+------------+-----+\n",
      "|         ABQ|     737-7H4|   26|\n",
      "+------------+------------+-----+\n",
      "only showing top 1 row\n",
      "\n",
      "+------------+------------+-----+\n",
      "|dest_flights|model_planes|count|\n",
      "+------------+------------+-----+\n",
      "|         CLE|    A320-214|    2|\n",
      "+------------+------------+-----+\n",
      "\n",
      "+------------+------------+-----+\n",
      "|dest_flights|model_planes|count|\n",
      "+------------+------------+-----+\n",
      "|         PDX|   EMB-120ER|   87|\n",
      "+------------+------------+-----+\n",
      "only showing top 1 row\n",
      "\n",
      "+------------+------------+-----+\n",
      "|dest_flights|model_planes|count|\n",
      "+------------+------------+-----+\n",
      "|         MIA|        null|   15|\n",
      "+------------+------------+-----+\n",
      "only showing top 1 row\n",
      "\n",
      "+------------+------------+-----+\n",
      "|dest_flights|model_planes|count|\n",
      "+------------+------------+-----+\n",
      "|         TPA|     737-890|   10|\n",
      "+------------+------------+-----+\n",
      "only showing top 1 row\n",
      "\n",
      "+------------+------------+-----+\n",
      "|dest_flights|model_planes|count|\n",
      "+------------+------------+-----+\n",
      "|         BWI|     737-7H4|   16|\n",
      "+------------+------------+-----+\n",
      "only showing top 1 row\n",
      "\n",
      "+------------+------------+-----+\n",
      "|dest_flights|model_planes|count|\n",
      "+------------+------------+-----+\n",
      "|         SMF|     737-7H4|  114|\n",
      "+------------+------------+-----+\n",
      "only showing top 1 row\n",
      "\n",
      "+------------+------------+-----+\n",
      "|dest_flights|model_planes|count|\n",
      "+------------+------------+-----+\n",
      "|         PHX|    A320-232|   91|\n",
      "+------------+------------+-----+\n",
      "only showing top 1 row\n",
      "\n",
      "+------------+------------+-----+\n",
      "|dest_flights|model_planes|count|\n",
      "+------------+------------+-----+\n",
      "|         STL|     737-890|    6|\n",
      "+------------+------------+-----+\n",
      "only showing top 1 row\n",
      "\n",
      "+------------+------------+-----+\n",
      "|dest_flights|model_planes|count|\n",
      "+------------+------------+-----+\n",
      "|         DFW|        null|  248|\n",
      "+------------+------------+-----+\n",
      "only showing top 1 row\n",
      "\n",
      "+------------+------------+-----+\n",
      "|dest_flights|model_planes|count|\n",
      "+------------+------------+-----+\n",
      "|         HDN| CL-600-2C10|    4|\n",
      "+------------+------------+-----+\n",
      "\n",
      "+------------+------------+-----+\n",
      "|dest_flights|model_planes|count|\n",
      "+------------+------------+-----+\n",
      "|         LMT|   EMB-120ER|   10|\n",
      "+------------+------------+-----+\n",
      "\n",
      "+------------+------------+-----+\n",
      "|dest_flights|model_planes|count|\n",
      "+------------+------------+-----+\n",
      "|         SFO|     737-490|   87|\n",
      "+------------+------------+-----+\n",
      "only showing top 1 row\n",
      "\n"
     ]
    },
    {
     "name": "stdout",
     "output_type": "stream",
     "text": [
      "+------------+------------+-----+\n",
      "|dest_flights|model_planes|count|\n",
      "+------------+------------+-----+\n",
      "|         ATL|   737-932ER|   80|\n",
      "+------------+------------+-----+\n",
      "only showing top 1 row\n",
      "\n",
      "+------------+------------+-----+\n",
      "|dest_flights|model_planes|count|\n",
      "+------------+------------+-----+\n",
      "|         FLL|     737-890|   25|\n",
      "+------------+------------+-----+\n",
      "only showing top 1 row\n",
      "\n",
      "+------------+------------+-----+\n",
      "|dest_flights|model_planes|count|\n",
      "+------------+------------+-----+\n",
      "|         OMA| CL-600-2C10|   25|\n",
      "+------------+------------+-----+\n",
      "\n",
      "+------------+------------+-----+\n",
      "|dest_flights|model_planes|count|\n",
      "+------------+------------+-----+\n",
      "|         FAT| CL-600-2C10|   47|\n",
      "+------------+------------+-----+\n",
      "\n",
      "+------------+------------+-----+\n",
      "|dest_flights|model_planes|count|\n",
      "+------------+------------+-----+\n",
      "|         ORD|        null|  168|\n",
      "+------------+------------+-----+\n",
      "only showing top 1 row\n",
      "\n",
      "+------------+------------+-----+\n",
      "|dest_flights|model_planes|count|\n",
      "+------------+------------+-----+\n",
      "|         MKE|     737-7H4|   16|\n",
      "+------------+------------+-----+\n",
      "\n",
      "+------------+------------+-----+\n",
      "|dest_flights|model_planes|count|\n",
      "+------------+------------+-----+\n",
      "|         TUS| CL-600-2C10|   24|\n",
      "+------------+------------+-----+\n",
      "only showing top 1 row\n",
      "\n",
      "+------------+------------+-----+\n",
      "|dest_flights|model_planes|count|\n",
      "+------------+------------+-----+\n",
      "|         MDW|     737-8H4|   45|\n",
      "+------------+------------+-----+\n",
      "only showing top 1 row\n",
      "\n",
      "+------------+------------+-----+\n",
      "|dest_flights|model_planes|count|\n",
      "+------------+------------+-----+\n",
      "|         COS| CL-600-2C10|   26|\n",
      "+------------+------------+-----+\n",
      "\n",
      "+------------+------------+-----+\n",
      "|dest_flights|model_planes|count|\n",
      "+------------+------------+-----+\n",
      "|         JNU|     737-4Q8|   29|\n",
      "+------------+------------+-----+\n",
      "only showing top 1 row\n",
      "\n",
      "+------------+------------+-----+\n",
      "|dest_flights|model_planes|count|\n",
      "+------------+------------+-----+\n",
      "|         KOA|     737-890|   39|\n",
      "+------------+------------+-----+\n",
      "only showing top 1 row\n",
      "\n",
      "+------------+------------+-----+\n",
      "|dest_flights|model_planes|count|\n",
      "+------------+------------+-----+\n",
      "|         DTW|     737-832|   46|\n",
      "+------------+------------+-----+\n",
      "only showing top 1 row\n",
      "\n",
      "+------------+------------+-----+\n",
      "|dest_flights|model_planes|count|\n",
      "+------------+------------+-----+\n",
      "|         HOU|     737-7H4|   21|\n",
      "+------------+------------+-----+\n",
      "only showing top 1 row\n",
      "\n",
      "+------------+------------+-----+\n",
      "|dest_flights|model_planes|count|\n",
      "+------------+------------+-----+\n",
      "|         ONT| CL-600-2C10|   55|\n",
      "+------------+------------+-----+\n",
      "only showing top 1 row\n",
      "\n",
      "+------------+------------+-----+\n",
      "|dest_flights|model_planes|count|\n",
      "+------------+------------+-----+\n",
      "|         LAX|     737-890|  110|\n",
      "+------------+------------+-----+\n",
      "only showing top 1 row\n",
      "\n",
      "+------------+------------+-----+\n",
      "|dest_flights|model_planes|count|\n",
      "+------------+------------+-----+\n",
      "|         MSP|     757-232|   46|\n",
      "+------------+------------+-----+\n",
      "only showing top 1 row\n",
      "\n",
      "+------------+------------+-----+\n",
      "|dest_flights|model_planes|count|\n",
      "+------------+------------+-----+\n",
      "|         SIT|     737-490|    3|\n",
      "+------------+------------+-----+\n",
      "only showing top 1 row\n",
      "\n",
      "+------------+------------+-----+\n",
      "|dest_flights|model_planes|count|\n",
      "+------------+------------+-----+\n",
      "|         MCO|     737-890|   22|\n",
      "+------------+------------+-----+\n",
      "only showing top 1 row\n",
      "\n",
      "+------------+------------+-----+\n",
      "|dest_flights|model_planes|count|\n",
      "+------------+------------+-----+\n",
      "|         SAN|     737-890|  102|\n",
      "+------------+------------+-----+\n",
      "only showing top 1 row\n",
      "\n",
      "+------------+------------+-----+\n",
      "|dest_flights|model_planes|count|\n",
      "+------------+------------+-----+\n",
      "|         ANC|     737-890|  138|\n",
      "+------------+------------+-----+\n",
      "only showing top 1 row\n",
      "\n",
      "+------------+------------+-----+\n",
      "|dest_flights|model_planes|count|\n",
      "+------------+------------+-----+\n",
      "|         JFK|    A320-232|   39|\n",
      "+------------+------------+-----+\n",
      "only showing top 1 row\n",
      "\n",
      "+------------+------------+-----+\n",
      "|dest_flights|model_planes|count|\n",
      "+------------+------------+-----+\n",
      "|         PHL|    A320-232|   22|\n",
      "+------------+------------+-----+\n",
      "only showing top 1 row\n",
      "\n",
      "+------------+------------+-----+\n",
      "|dest_flights|model_planes|count|\n",
      "+------------+------------+-----+\n",
      "|         OGG|     737-890|   67|\n",
      "+------------+------------+-----+\n",
      "only showing top 1 row\n",
      "\n",
      "+------------+------------+-----+\n",
      "|dest_flights|model_planes|count|\n",
      "+------------+------------+-----+\n",
      "|         SLC|     757-232|  104|\n",
      "+------------+------------+-----+\n",
      "only showing top 1 row\n",
      "\n",
      "+------------+------------+-----+\n",
      "|dest_flights|model_planes|count|\n",
      "+------------+------------+-----+\n",
      "|         SAT|     737-890|    8|\n",
      "+------------+------------+-----+\n",
      "only showing top 1 row\n",
      "\n"
     ]
    },
    {
     "data": {
      "text/plain": [
       "[None,\n",
       " None,\n",
       " None,\n",
       " None,\n",
       " None,\n",
       " None,\n",
       " None,\n",
       " None,\n",
       " None,\n",
       " None,\n",
       " None,\n",
       " None,\n",
       " None,\n",
       " None,\n",
       " None,\n",
       " None,\n",
       " None,\n",
       " None,\n",
       " None,\n",
       " None,\n",
       " None,\n",
       " None,\n",
       " None,\n",
       " None,\n",
       " None,\n",
       " None,\n",
       " None,\n",
       " None,\n",
       " None,\n",
       " None,\n",
       " None,\n",
       " None,\n",
       " None,\n",
       " None,\n",
       " None,\n",
       " None,\n",
       " None,\n",
       " None,\n",
       " None,\n",
       " None,\n",
       " None,\n",
       " None,\n",
       " None,\n",
       " None,\n",
       " None,\n",
       " None,\n",
       " None,\n",
       " None,\n",
       " None,\n",
       " None,\n",
       " None,\n",
       " None,\n",
       " None,\n",
       " None,\n",
       " None,\n",
       " None,\n",
       " None,\n",
       " None,\n",
       " None,\n",
       " None,\n",
       " None,\n",
       " None,\n",
       " None,\n",
       " None,\n",
       " None,\n",
       " None,\n",
       " None,\n",
       " None,\n",
       " None]"
      ]
     },
     "execution_count": 82,
     "metadata": {},
     "output_type": "execute_result"
    }
   ],
   "source": [
    "[BD_uni.filter(F.col('dest_flights') == dest).groupBy('dest_flights', 'model_planes').count().sort('count', ascending = False).show(1) for dest in list_dest]"
   ]
  },
  {
   "cell_type": "code",
   "execution_count": 83,
   "id": "4bf3f96a",
   "metadata": {},
   "outputs": [
    {
     "data": {
      "text/html": [
       "<div>\n",
       "<style scoped>\n",
       "    .dataframe tbody tr th:only-of-type {\n",
       "        vertical-align: middle;\n",
       "    }\n",
       "\n",
       "    .dataframe tbody tr th {\n",
       "        vertical-align: top;\n",
       "    }\n",
       "\n",
       "    .dataframe thead th {\n",
       "        text-align: right;\n",
       "    }\n",
       "</style>\n",
       "<table border=\"1\" class=\"dataframe\">\n",
       "  <thead>\n",
       "    <tr style=\"text-align: right;\">\n",
       "      <th></th>\n",
       "      <th>model_planes</th>\n",
       "      <th>dest_flights</th>\n",
       "      <th>count</th>\n",
       "    </tr>\n",
       "  </thead>\n",
       "  <tbody>\n",
       "    <tr>\n",
       "      <th>0</th>\n",
       "      <td>737-7H4</td>\n",
       "      <td>OAK</td>\n",
       "      <td>141</td>\n",
       "    </tr>\n",
       "  </tbody>\n",
       "</table>\n",
       "</div>"
      ],
      "text/plain": [
       "  model_planes dest_flights  count\n",
       "0      737-7H4          OAK    141"
      ]
     },
     "execution_count": 83,
     "metadata": {},
     "output_type": "execute_result"
    }
   ],
   "source": [
    "(BD_uni.select(\"model_planes\", \"dest_flights\")\n",
    "    .where(F.col(\"model_planes\").isNotNull())\n",
    "    .groupBy(\"model_planes\", \"dest_flights\")\n",
    "    .count()\n",
    "    .orderBy('count', ascending= False)\n",
    "    .limit(1)\n",
    "    .toPandas()\n",
    ")"
   ]
  },
  {
   "cell_type": "markdown",
   "id": "3957f181",
   "metadata": {},
   "source": [
    "### 26 - Qual é o número médio de motores para cada categoria de haul_duration ?"
   ]
  },
  {
   "cell_type": "code",
   "execution_count": 84,
   "id": "7cbd87c9",
   "metadata": {
    "scrolled": true
   },
   "outputs": [
    {
     "name": "stdout",
     "output_type": "stream",
     "text": [
      "+---------------------+-----------------+\n",
      "|haul_duration_flights|mean_engines_haul|\n",
      "+---------------------+-----------------+\n",
      "|          MEDIUM-HAUL|              2.0|\n",
      "|           SHORT-HAUL|              2.0|\n",
      "+---------------------+-----------------+\n",
      "\n"
     ]
    }
   ],
   "source": [
    "BD_uni.groupBy('haul_duration_flights')\\\n",
    "    .agg(F.round(F.mean('engines_planes'), 2).alias('mean_engines_haul')).show()"
   ]
  },
  {
   "cell_type": "markdown",
   "id": "8a5aad89",
   "metadata": {},
   "source": [
    "### 27 - Qual é a estação mais popular para voos?"
   ]
  },
  {
   "cell_type": "code",
   "execution_count": 85,
   "id": "213bcab0",
   "metadata": {
    "scrolled": true
   },
   "outputs": [
    {
     "data": {
      "text/plain": [
       "'SUMMER'"
      ]
     },
     "execution_count": 85,
     "metadata": {},
     "output_type": "execute_result"
    }
   ],
   "source": [
    "BD_uni.groupBy('dep_season_flights').count().sort('count', ascending = False).first()[0]"
   ]
  },
  {
   "cell_type": "markdown",
   "id": "2852efe5",
   "metadata": {},
   "source": [
    "### 28 - Qual é a estação mais popular para voos em cada um dos destinos?"
   ]
  },
  {
   "cell_type": "code",
   "execution_count": null,
   "id": "aa923686",
   "metadata": {
    "scrolled": true
   },
   "outputs": [
    {
     "name": "stdout",
     "output_type": "stream",
     "text": [
      "+------------+------------------+-----+\n",
      "|dest_flights|dep_season_flights|count|\n",
      "+------------+------------------+-----+\n",
      "|         MSY|              FALL|    4|\n",
      "+------------+------------------+-----+\n",
      "only showing top 1 row\n",
      "\n",
      "+------------+------------------+-----+\n",
      "|dest_flights|dep_season_flights|count|\n",
      "+------------+------------------+-----+\n",
      "|         GEG|              FALL|   28|\n",
      "+------------+------------------+-----+\n",
      "only showing top 1 row\n",
      "\n",
      "+------------+------------------+-----+\n",
      "|dest_flights|dep_season_flights|count|\n",
      "+------------+------------------+-----+\n",
      "|         BUR|            WINTER|   44|\n",
      "+------------+------------------+-----+\n",
      "only showing top 1 row\n",
      "\n",
      "+------------+------------------+-----+\n",
      "|dest_flights|dep_season_flights|count|\n",
      "+------------+------------------+-----+\n",
      "|         SNA|              FALL|   60|\n",
      "+------------+------------------+-----+\n",
      "only showing top 1 row\n",
      "\n",
      "+------------+------------------+-----+\n",
      "|dest_flights|dep_season_flights|count|\n",
      "+------------+------------------+-----+\n",
      "|         EUG|            SPRING|   20|\n",
      "+------------+------------------+-----+\n",
      "only showing top 1 row\n",
      "\n",
      "+------------+------------------+-----+\n",
      "|dest_flights|dep_season_flights|count|\n",
      "+------------+------------------+-----+\n",
      "|         OAK|              FALL|   96|\n",
      "+------------+------------------+-----+\n",
      "only showing top 1 row\n",
      "\n",
      "+------------+------------------+-----+\n",
      "|dest_flights|dep_season_flights|count|\n",
      "+------------+------------------+-----+\n",
      "|         DCA|            SUMMER|   20|\n",
      "+------------+------------------+-----+\n",
      "only showing top 1 row\n",
      "\n",
      "+------------+------------------+-----+\n",
      "|dest_flights|dep_season_flights|count|\n",
      "+------------+------------------+-----+\n",
      "|         RDM|            SUMMER|   19|\n",
      "+------------+------------------+-----+\n",
      "only showing top 1 row\n",
      "\n",
      "+------------+------------------+-----+\n",
      "|dest_flights|dep_season_flights|count|\n",
      "+------------+------------------+-----+\n",
      "|         KTN|            SUMMER|   32|\n",
      "+------------+------------------+-----+\n",
      "only showing top 1 row\n",
      "\n",
      "+------------+------------------+-----+\n",
      "|dest_flights|dep_season_flights|count|\n",
      "+------------+------------------+-----+\n",
      "|         LIH|              FALL|   13|\n",
      "+------------+------------------+-----+\n",
      "only showing top 1 row\n",
      "\n",
      "+------------+------------------+-----+\n",
      "|dest_flights|dep_season_flights|count|\n",
      "+------------+------------------+-----+\n",
      "|         IAH|            SUMMER|   67|\n",
      "+------------+------------------+-----+\n",
      "only showing top 1 row\n",
      "\n",
      "+------------+------------------+-----+\n",
      "|dest_flights|dep_season_flights|count|\n",
      "+------------+------------------+-----+\n",
      "|         HNL|            WINTER|   40|\n",
      "+------------+------------------+-----+\n",
      "only showing top 1 row\n",
      "\n",
      "+------------+------------------+-----+\n",
      "|dest_flights|dep_season_flights|count|\n",
      "+------------+------------------+-----+\n",
      "|         SJC|            SUMMER|  120|\n",
      "+------------+------------------+-----+\n",
      "only showing top 1 row\n",
      "\n",
      "+------------+------------------+-----+\n",
      "|dest_flights|dep_season_flights|count|\n",
      "+------------+------------------+-----+\n",
      "|         CVG|            SPRING|    3|\n",
      "+------------+------------------+-----+\n",
      "only showing top 1 row\n",
      "\n",
      "+------------+------------------+-----+\n",
      "|dest_flights|dep_season_flights|count|\n",
      "+------------+------------------+-----+\n",
      "|         AUS|            SPRING|    9|\n",
      "+------------+------------------+-----+\n",
      "only showing top 1 row\n",
      "\n",
      "+------------+------------------+-----+\n",
      "|dest_flights|dep_season_flights|count|\n",
      "+------------+------------------+-----+\n",
      "|         LGB|            SPRING|   46|\n",
      "+------------+------------------+-----+\n",
      "only showing top 1 row\n",
      "\n",
      "+------------+------------------+-----+\n",
      "|dest_flights|dep_season_flights|count|\n",
      "+------------+------------------+-----+\n",
      "|         RNO|            WINTER|   13|\n",
      "+------------+------------------+-----+\n",
      "only showing top 1 row\n",
      "\n",
      "+------------+------------------+-----+\n",
      "|dest_flights|dep_season_flights|count|\n",
      "+------------+------------------+-----+\n",
      "|         BOS|            SUMMER|   50|\n",
      "+------------+------------------+-----+\n",
      "only showing top 1 row\n",
      "\n",
      "+------------+------------------+-----+\n",
      "|dest_flights|dep_season_flights|count|\n",
      "+------------+------------------+-----+\n",
      "|         EWR|            SUMMER|   46|\n",
      "+------------+------------------+-----+\n",
      "only showing top 1 row\n",
      "\n",
      "+------------+------------------+-----+\n",
      "|dest_flights|dep_season_flights|count|\n",
      "+------------+------------------+-----+\n",
      "|         LAS|            SPRING|  145|\n",
      "+------------+------------------+-----+\n",
      "only showing top 1 row\n",
      "\n",
      "+------------+------------------+-----+\n",
      "|dest_flights|dep_season_flights|count|\n",
      "+------------+------------------+-----+\n",
      "|         FAI|            SUMMER|   29|\n",
      "+------------+------------------+-----+\n",
      "only showing top 1 row\n",
      "\n",
      "+------------+------------------+-----+\n",
      "|dest_flights|dep_season_flights|count|\n",
      "+------------+------------------+-----+\n",
      "|         DEN|            SUMMER|  172|\n",
      "+------------+------------------+-----+\n",
      "only showing top 1 row\n",
      "\n",
      "+------------+------------------+-----+\n",
      "|dest_flights|dep_season_flights|count|\n",
      "+------------+------------------+-----+\n",
      "|         SBA|            SUMMER|   16|\n",
      "+------------+------------------+-----+\n",
      "only showing top 1 row\n",
      "\n",
      "+------------+------------------+-----+\n",
      "|dest_flights|dep_season_flights|count|\n",
      "+------------+------------------+-----+\n",
      "|         PSP|            SPRING|   20|\n",
      "+------------+------------------+-----+\n",
      "only showing top 1 row\n",
      "\n",
      "+------------+------------------+-----+\n",
      "|dest_flights|dep_season_flights|count|\n",
      "+------------+------------------+-----+\n",
      "|         IAD|            SUMMER|   31|\n",
      "+------------+------------------+-----+\n",
      "only showing top 1 row\n",
      "\n",
      "+------------+------------------+-----+\n",
      "|dest_flights|dep_season_flights|count|\n",
      "+------------+------------------+-----+\n",
      "|         BOI|            SPRING|    7|\n",
      "+------------+------------------+-----+\n",
      "\n",
      "+------------+------------------+-----+\n",
      "|dest_flights|dep_season_flights|count|\n",
      "+------------+------------------+-----+\n",
      "|         SEA|            SUMMER|   42|\n",
      "+------------+------------------+-----+\n",
      "only showing top 1 row\n",
      "\n",
      "+------------+------------------+-----+\n",
      "|dest_flights|dep_season_flights|count|\n",
      "+------------+------------------+-----+\n",
      "|         MCI|            SPRING|   13|\n",
      "+------------+------------------+-----+\n",
      "only showing top 1 row\n",
      "\n",
      "+------------+------------------+-----+\n",
      "|dest_flights|dep_season_flights|count|\n",
      "+------------+------------------+-----+\n",
      "|         CLT|            SPRING|   28|\n",
      "+------------+------------------+-----+\n",
      "only showing top 1 row\n",
      "\n",
      "+------------+------------------+-----+\n",
      "|dest_flights|dep_season_flights|count|\n",
      "+------------+------------------+-----+\n",
      "|         BNA|            SUMMER|    5|\n",
      "+------------+------------------+-----+\n",
      "only showing top 1 row\n",
      "\n",
      "+------------+------------------+-----+\n",
      "|dest_flights|dep_season_flights|count|\n",
      "+------------+------------------+-----+\n",
      "|         BLI|            SUMMER|    4|\n",
      "+------------+------------------+-----+\n",
      "only showing top 1 row\n",
      "\n",
      "+------------+------------------+-----+\n",
      "|dest_flights|dep_season_flights|count|\n",
      "+------------+------------------+-----+\n",
      "|         ABQ|              FALL|   19|\n",
      "+------------+------------------+-----+\n",
      "only showing top 1 row\n",
      "\n",
      "+------------+------------------+-----+\n",
      "|dest_flights|dep_season_flights|count|\n",
      "+------------+------------------+-----+\n",
      "|         CLE|            SUMMER|    2|\n",
      "+------------+------------------+-----+\n",
      "\n",
      "+------------+------------------+-----+\n",
      "|dest_flights|dep_season_flights|count|\n",
      "+------------+------------------+-----+\n",
      "|         PDX|            SPRING|   47|\n",
      "+------------+------------------+-----+\n",
      "only showing top 1 row\n",
      "\n",
      "+------------+------------------+-----+\n",
      "|dest_flights|dep_season_flights|count|\n",
      "+------------+------------------+-----+\n",
      "|         MIA|            WINTER|    9|\n",
      "+------------+------------------+-----+\n",
      "only showing top 1 row\n",
      "\n",
      "+------------+------------------+-----+\n",
      "|dest_flights|dep_season_flights|count|\n",
      "+------------+------------------+-----+\n",
      "|         TPA|            SUMMER|    6|\n",
      "+------------+------------------+-----+\n",
      "only showing top 1 row\n",
      "\n",
      "+------------+------------------+-----+\n",
      "|dest_flights|dep_season_flights|count|\n",
      "+------------+------------------+-----+\n",
      "|         BWI|            SUMMER|   14|\n",
      "+------------+------------------+-----+\n",
      "only showing top 1 row\n",
      "\n",
      "+------------+------------------+-----+\n",
      "|dest_flights|dep_season_flights|count|\n",
      "+------------+------------------+-----+\n",
      "|         SMF|            SUMMER|   91|\n",
      "+------------+------------------+-----+\n",
      "only showing top 1 row\n",
      "\n"
     ]
    },
    {
     "name": "stdout",
     "output_type": "stream",
     "text": [
      "+------------+------------------+-----+\n",
      "|dest_flights|dep_season_flights|count|\n",
      "+------------+------------------+-----+\n",
      "|         PHX|            SPRING|  148|\n",
      "+------------+------------------+-----+\n",
      "only showing top 1 row\n",
      "\n",
      "+------------+------------------+-----+\n",
      "|dest_flights|dep_season_flights|count|\n",
      "+------------+------------------+-----+\n",
      "|         STL|            SUMMER|   11|\n",
      "+------------+------------------+-----+\n",
      "only showing top 1 row\n",
      "\n",
      "+------------+------------------+-----+\n",
      "|dest_flights|dep_season_flights|count|\n",
      "+------------+------------------+-----+\n",
      "|         DFW|            SUMMER|  122|\n",
      "+------------+------------------+-----+\n",
      "only showing top 1 row\n",
      "\n",
      "+------------+------------------+-----+\n",
      "|dest_flights|dep_season_flights|count|\n",
      "+------------+------------------+-----+\n",
      "|         HDN|            WINTER|    4|\n",
      "+------------+------------------+-----+\n",
      "\n",
      "+------------+------------------+-----+\n",
      "|dest_flights|dep_season_flights|count|\n",
      "+------------+------------------+-----+\n",
      "|         LMT|            WINTER|    7|\n",
      "+------------+------------------+-----+\n",
      "only showing top 1 row\n",
      "\n",
      "+------------+------------------+-----+\n",
      "|dest_flights|dep_season_flights|count|\n",
      "+------------+------------------+-----+\n",
      "|         SFO|            SUMMER|  217|\n",
      "+------------+------------------+-----+\n",
      "only showing top 1 row\n",
      "\n",
      "+------------+------------------+-----+\n",
      "|dest_flights|dep_season_flights|count|\n",
      "+------------+------------------+-----+\n",
      "|         ATL|            SUMMER|   86|\n",
      "+------------+------------------+-----+\n",
      "only showing top 1 row\n",
      "\n",
      "+------------+------------------+-----+\n",
      "|dest_flights|dep_season_flights|count|\n",
      "+------------+------------------+-----+\n",
      "|         FLL|            WINTER|   10|\n",
      "+------------+------------------+-----+\n",
      "only showing top 1 row\n",
      "\n",
      "+------------+------------------+-----+\n",
      "|dest_flights|dep_season_flights|count|\n",
      "+------------+------------------+-----+\n",
      "|         OMA|            WINTER|    8|\n",
      "+------------+------------------+-----+\n",
      "only showing top 1 row\n",
      "\n",
      "+------------+------------------+-----+\n",
      "|dest_flights|dep_season_flights|count|\n",
      "+------------+------------------+-----+\n",
      "|         FAT|            SUMMER|   17|\n",
      "+------------+------------------+-----+\n",
      "only showing top 1 row\n",
      "\n",
      "+------------+------------------+-----+\n",
      "|dest_flights|dep_season_flights|count|\n",
      "+------------+------------------+-----+\n",
      "|         ORD|            SUMMER|  129|\n",
      "+------------+------------------+-----+\n",
      "only showing top 1 row\n",
      "\n",
      "+------------+------------------+-----+\n",
      "|dest_flights|dep_season_flights|count|\n",
      "+------------+------------------+-----+\n",
      "|         MKE|            SPRING|    6|\n",
      "+------------+------------------+-----+\n",
      "only showing top 1 row\n",
      "\n",
      "+------------+------------------+-----+\n",
      "|dest_flights|dep_season_flights|count|\n",
      "+------------+------------------+-----+\n",
      "|         TUS|            SPRING|   17|\n",
      "+------------+------------------+-----+\n",
      "only showing top 1 row\n",
      "\n",
      "+------------+------------------+-----+\n",
      "|dest_flights|dep_season_flights|count|\n",
      "+------------+------------------+-----+\n",
      "|         MDW|            SUMMER|   42|\n",
      "+------------+------------------+-----+\n",
      "only showing top 1 row\n",
      "\n",
      "+------------+------------------+-----+\n",
      "|dest_flights|dep_season_flights|count|\n",
      "+------------+------------------+-----+\n",
      "|         COS|              FALL|    8|\n",
      "+------------+------------------+-----+\n",
      "only showing top 1 row\n",
      "\n",
      "+------------+------------------+-----+\n",
      "|dest_flights|dep_season_flights|count|\n",
      "+------------+------------------+-----+\n",
      "|         JNU|            SUMMER|   31|\n",
      "+------------+------------------+-----+\n",
      "only showing top 1 row\n",
      "\n",
      "+------------+------------------+-----+\n",
      "|dest_flights|dep_season_flights|count|\n",
      "+------------+------------------+-----+\n",
      "|         KOA|              FALL|   17|\n",
      "+------------+------------------+-----+\n",
      "only showing top 1 row\n",
      "\n",
      "+------------+------------------+-----+\n",
      "|dest_flights|dep_season_flights|count|\n",
      "+------------+------------------+-----+\n",
      "|         DTW|            SUMMER|   43|\n",
      "+------------+------------------+-----+\n",
      "only showing top 1 row\n",
      "\n",
      "+------------+------------------+-----+\n",
      "|dest_flights|dep_season_flights|count|\n",
      "+------------+------------------+-----+\n",
      "|         HOU|            SUMMER|   20|\n",
      "+------------+------------------+-----+\n",
      "only showing top 1 row\n",
      "\n",
      "+------------+------------------+-----+\n",
      "|dest_flights|dep_season_flights|count|\n",
      "+------------+------------------+-----+\n",
      "|         ONT|              FALL|   41|\n",
      "+------------+------------------+-----+\n",
      "only showing top 1 row\n",
      "\n",
      "+------------+------------------+-----+\n",
      "|dest_flights|dep_season_flights|count|\n",
      "+------------+------------------+-----+\n",
      "|         LAX|            SPRING|  176|\n",
      "+------------+------------------+-----+\n",
      "only showing top 1 row\n",
      "\n",
      "+------------+------------------+-----+\n",
      "|dest_flights|dep_season_flights|count|\n",
      "+------------+------------------+-----+\n",
      "|         MSP|              FALL|   68|\n",
      "+------------+------------------+-----+\n",
      "only showing top 1 row\n",
      "\n"
     ]
    }
   ],
   "source": [
    "[BD_uni.filter(\n",
    "    F.col('dest_flights') == dest)\\\n",
    "         .groupBy('dest_flights', 'dep_season_flights')\\\n",
    "             .count().sort('count', ascending = False).show(1) for dest in list_dest]"
   ]
  },
  {
   "cell_type": "markdown",
   "id": "7a4e288c",
   "metadata": {},
   "source": [
    "### Pergunta 29"
   ]
  },
  {
   "cell_type": "code",
   "execution_count": null,
   "id": "13b2ac65",
   "metadata": {},
   "outputs": [],
   "source": [
    "BD_uni.groupBy('haul_duration_flights').count().sort('count').first()[0]"
   ]
  },
  {
   "cell_type": "markdown",
   "id": "962d5a55",
   "metadata": {},
   "source": [
    "### 30 - Qual é a categoria de atrasos mais comum por rota?"
   ]
  },
  {
   "cell_type": "code",
   "execution_count": null,
   "id": "548cb935",
   "metadata": {
    "scrolled": true
   },
   "outputs": [],
   "source": [
    "BD_uni.groupby('dest_flights', 'origin_flights', 'dep_delay_category_flights')\\\n",
    "    .count()\\\n",
    "    .agg(F.max(F.struct(F.col('count'), F.col('dep_delay_category_flights')))).show()\n",
    "#     .agg(F.max(\n",
    "#             F.struct(F.col('dep_delay_category_flights'), \n",
    "#                      'count'))\\\n",
    "#          .alias('most_common_delay'))\\\n",
    "#     .sort('count', ascending = False)\\\n",
    "#     .show()"
   ]
  },
  {
   "cell_type": "code",
   "execution_count": null,
   "id": "40185806",
   "metadata": {},
   "outputs": [],
   "source": []
  }
 ],
 "metadata": {
  "kernelspec": {
   "display_name": "Python 3 (ipykernel)",
   "language": "python",
   "name": "python3"
  },
  "language_info": {
   "codemirror_mode": {
    "name": "ipython",
    "version": 3
   },
   "file_extension": ".py",
   "mimetype": "text/x-python",
   "name": "python",
   "nbconvert_exporter": "python",
   "pygments_lexer": "ipython3",
   "version": "3.9.7"
  }
 },
 "nbformat": 4,
 "nbformat_minor": 5
}
